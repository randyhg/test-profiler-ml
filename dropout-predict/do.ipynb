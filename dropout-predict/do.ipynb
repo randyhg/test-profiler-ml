{
 "cells": [
  {
   "cell_type": "markdown",
   "id": "2d8330f0c1349f4",
   "metadata": {},
   "source": [
    "# Load Libraries"
   ]
  },
  {
   "cell_type": "code",
   "execution_count": 15,
   "id": "709c11f567c13deb",
   "metadata": {
    "ExecuteTime": {
     "end_time": "2024-11-28T02:49:43.615858Z",
     "start_time": "2024-11-28T02:49:43.335654Z"
    }
   },
   "outputs": [],
   "source": [
    "import pandas as pd\n",
    "import numpy as np\n",
    "import matplotlib.pyplot as plt\n",
    "import seaborn as sns\n",
    "from sklearn.model_selection import train_test_split\n",
    "from sklearn.preprocessing import StandardScaler, OneHotEncoder\n",
    "from sklearn.ensemble import RandomForestClassifier\n",
    "from sklearn.metrics import accuracy_score, classification_report, roc_auc_score, confusion_matrix\n",
    "from joblib import dump, load\n",
    "from imblearn.over_sampling import SMOTE\n"
   ]
  },
  {
   "cell_type": "code",
   "execution_count": 2,
   "id": "c9b4b29c92d79750",
   "metadata": {
    "ExecuteTime": {
     "end_time": "2024-11-28T02:49:44.727364Z",
     "start_time": "2024-11-28T02:49:44.593977Z"
    }
   },
   "outputs": [],
   "source": [
    "mhs = pd.read_csv('../MHS.csv')\n",
    "mhs = mhs.drop(columns=['pembimbing_tugas_akhir'])\n",
    "\n",
    "sa = pd.read_csv('../SA.csv')\n",
    "krs = pd.read_csv('../KRS.csv')\n",
    "\n",
    "point_mapping = {\n",
    "    'Lokal': 1,\n",
    "    'Provinsi': 3,\n",
    "    'Nasional': 5,\n",
    "    'International': 10\n",
    "}\n",
    "\n",
    "# Apply mapping\n",
    "sa['points'] = sa['tingkat_kegiatan'].str.lower().map(point_mapping).fillna(1)\n",
    "\n",
    "# Calculate total points for each student\n",
    "sa_points = sa.groupby('npm_mahasiswa')['points'].sum().reset_index()\n",
    "sa_points.rename(columns={'points': 'total_activity_points'}, inplace=True)\n",
    "\n",
    "# Calculate attendance percentage per course\n",
    "krs['attendance_percentage'] = (krs['total_hadir'] / krs['total_pertemuan']) * 100\n",
    "\n",
    "total_sks = krs.groupby('npm_mahasiswa')['sks_matakuliah'].sum().reset_index()\n",
    "total_sks.rename(columns={'sks_matakuliah': 'total_sks'}, inplace=True)\n",
    "\n",
    "attendance = krs.groupby('npm_mahasiswa')['attendance_percentage'].mean().reset_index()\n",
    "attendance.rename(columns={'attendance_percentage': 'attendance_rate'}, inplace=True)"
   ]
  },
  {
   "cell_type": "code",
   "execution_count": 3,
   "id": "daed831e4901b007",
   "metadata": {
    "ExecuteTime": {
     "end_time": "2024-11-28T02:49:46.902555Z",
     "start_time": "2024-11-28T02:49:46.876891Z"
    }
   },
   "outputs": [],
   "source": [
    "# Merge SA and KRS aggregated data with MHS.csv\n",
    "\n",
    "data = mhs.merge(sa_points, on='npm_mahasiswa', how='left')\n",
    "data = data.merge(total_sks, on='npm_mahasiswa', how='left')\n",
    "data = data.merge(attendance, on='npm_mahasiswa', how='left')\n",
    "\n",
    "data.fillna(0, inplace=True)\n",
    "\n",
    "# Fill missing values (e.g., students with no activities or KRS data)\n",
    "data['attendance_rate'] = data['attendance_rate'].fillna(0)\n",
    "data['ipk_mahasiswa'] = data['ipk_mahasiswa'].fillna(0)\n",
    "\n",
    "data.dropna(inplace=True)\n",
    "\n",
    "# data['attendance_rate'] = data['total_hadir'] / data['total_pertemuan']\n",
    "data['activity_count'] = sa.groupby('npm_mahasiswa')['nama_kegiatan'].transform('count')\n",
    "data['activity_count'] = data['activity_count'].fillna(0)\n"
   ]
  },
  {
   "cell_type": "code",
   "execution_count": 4,
   "id": "7238dcf1e422ffa1",
   "metadata": {
    "ExecuteTime": {
     "end_time": "2024-11-28T02:49:49.591758Z",
     "start_time": "2024-11-28T02:49:49.571383Z"
    }
   },
   "outputs": [
    {
     "data": {
      "text/html": [
       "<div>\n",
       "<style scoped>\n",
       "    .dataframe tbody tr th:only-of-type {\n",
       "        vertical-align: middle;\n",
       "    }\n",
       "\n",
       "    .dataframe tbody tr th {\n",
       "        vertical-align: top;\n",
       "    }\n",
       "\n",
       "    .dataframe thead th {\n",
       "        text-align: right;\n",
       "    }\n",
       "</style>\n",
       "<table border=\"1\" class=\"dataframe\">\n",
       "  <thead>\n",
       "    <tr style=\"text-align: right;\">\n",
       "      <th></th>\n",
       "      <th>npm_mahasiswa</th>\n",
       "      <th>nama_mahasiswa</th>\n",
       "      <th>prodi_mahasiswa</th>\n",
       "      <th>angkatan_mahasiswa</th>\n",
       "      <th>ipk_mahasiswa</th>\n",
       "      <th>status_mahasiswa</th>\n",
       "      <th>total_activity_points</th>\n",
       "      <th>total_sks</th>\n",
       "      <th>attendance_rate</th>\n",
       "      <th>activity_count</th>\n",
       "    </tr>\n",
       "  </thead>\n",
       "  <tbody>\n",
       "    <tr>\n",
       "      <th>0</th>\n",
       "      <td>1931173</td>\n",
       "      <td>Celine Te</td>\n",
       "      <td>Sistem Informasi</td>\n",
       "      <td>2019</td>\n",
       "      <td>3.87</td>\n",
       "      <td>Lulus</td>\n",
       "      <td>18.0</td>\n",
       "      <td>145.0</td>\n",
       "      <td>94.841270</td>\n",
       "      <td>23</td>\n",
       "    </tr>\n",
       "    <tr>\n",
       "      <th>1</th>\n",
       "      <td>1931001</td>\n",
       "      <td>Rido Renando</td>\n",
       "      <td>Sistem Informasi</td>\n",
       "      <td>2019</td>\n",
       "      <td>3.72</td>\n",
       "      <td>Lulus</td>\n",
       "      <td>26.0</td>\n",
       "      <td>145.0</td>\n",
       "      <td>96.428571</td>\n",
       "      <td>61</td>\n",
       "    </tr>\n",
       "    <tr>\n",
       "      <th>2</th>\n",
       "      <td>1931009</td>\n",
       "      <td>Richie Marlon</td>\n",
       "      <td>Sistem Informasi</td>\n",
       "      <td>2019</td>\n",
       "      <td>3.90</td>\n",
       "      <td>Lulus</td>\n",
       "      <td>15.0</td>\n",
       "      <td>145.0</td>\n",
       "      <td>88.571429</td>\n",
       "      <td>61</td>\n",
       "    </tr>\n",
       "    <tr>\n",
       "      <th>3</th>\n",
       "      <td>1931083</td>\n",
       "      <td>Elvin Whang</td>\n",
       "      <td>Sistem Informasi</td>\n",
       "      <td>2019</td>\n",
       "      <td>3.68</td>\n",
       "      <td>Lulus</td>\n",
       "      <td>9.0</td>\n",
       "      <td>145.0</td>\n",
       "      <td>93.831169</td>\n",
       "      <td>53</td>\n",
       "    </tr>\n",
       "    <tr>\n",
       "      <th>4</th>\n",
       "      <td>2031001</td>\n",
       "      <td>Robin Sunjaya</td>\n",
       "      <td>Sistem Informasi</td>\n",
       "      <td>2020</td>\n",
       "      <td>3.88</td>\n",
       "      <td>Aktif</td>\n",
       "      <td>31.0</td>\n",
       "      <td>149.0</td>\n",
       "      <td>90.527950</td>\n",
       "      <td>53</td>\n",
       "    </tr>\n",
       "  </tbody>\n",
       "</table>\n",
       "</div>"
      ],
      "text/plain": [
       "   npm_mahasiswa nama_mahasiswa   prodi_mahasiswa  angkatan_mahasiswa  \\\n",
       "0        1931173      Celine Te  Sistem Informasi                2019   \n",
       "1        1931001   Rido Renando  Sistem Informasi                2019   \n",
       "2        1931009  Richie Marlon  Sistem Informasi                2019   \n",
       "3        1931083    Elvin Whang  Sistem Informasi                2019   \n",
       "4        2031001  Robin Sunjaya  Sistem Informasi                2020   \n",
       "\n",
       "   ipk_mahasiswa status_mahasiswa  total_activity_points  total_sks  \\\n",
       "0           3.87            Lulus                   18.0      145.0   \n",
       "1           3.72            Lulus                   26.0      145.0   \n",
       "2           3.90            Lulus                   15.0      145.0   \n",
       "3           3.68            Lulus                    9.0      145.0   \n",
       "4           3.88            Aktif                   31.0      149.0   \n",
       "\n",
       "   attendance_rate  activity_count  \n",
       "0        94.841270              23  \n",
       "1        96.428571              61  \n",
       "2        88.571429              61  \n",
       "3        93.831169              53  \n",
       "4        90.527950              53  "
      ]
     },
     "execution_count": 4,
     "metadata": {},
     "output_type": "execute_result"
    }
   ],
   "source": [
    "data.head()"
   ]
  },
  {
   "cell_type": "markdown",
   "id": "2eeb339ac8ed8e63",
   "metadata": {},
   "source": [
    "# Preprocessing\n"
   ]
  },
  {
   "cell_type": "code",
   "execution_count": 5,
   "id": "99d17c0ec9cda66",
   "metadata": {
    "ExecuteTime": {
     "end_time": "2024-11-28T05:36:11.211710Z",
     "start_time": "2024-11-28T05:36:11.196123Z"
    }
   },
   "outputs": [
    {
     "name": "stdout",
     "output_type": "stream",
     "text": [
      "status_mahasiswa\n",
      "0    640\n",
      "1     33\n",
      "Name: count, dtype: int64\n"
     ]
    }
   ],
   "source": [
    "# X = data[['ipk_mahasiswa', 'attendance_rate', 'total_activity_points','activity_count']]\n",
    "X = data[['ipk_mahasiswa', 'attendance_rate', 'total_activity_points','activity_count','angkatan_mahasiswa']]\n",
    "y = (data['status_mahasiswa'].isin(['Drop-out (putus studi)', 'Keluar'])).astype(int)\n",
    "\n",
    "print(y.value_counts())\n",
    "\n",
    "X_train, X_test, y_train, y_test = train_test_split(X, y, test_size=0.2, random_state=42, stratify=y)\n",
    "\n",
    "scaler = StandardScaler()\n",
    "X_train_scaled = scaler.fit_transform(X_train)\n",
    "X_test_scaled = scaler.transform(X_test)"
   ]
  },
  {
   "cell_type": "markdown",
   "id": "ec31daae4339f8f9",
   "metadata": {},
   "source": [
    "# Train Model"
   ]
  },
  {
   "cell_type": "code",
   "execution_count": 12,
   "id": "d0cc7c7b24380cb7",
   "metadata": {
    "ExecuteTime": {
     "end_time": "2024-11-28T02:51:58.125193Z",
     "start_time": "2024-11-28T02:51:57.288135Z"
    }
   },
   "outputs": [
    {
     "data": {
      "text/plain": [
       "['do-predict.joblib']"
      ]
     },
     "execution_count": 12,
     "metadata": {},
     "output_type": "execute_result"
    }
   ],
   "source": [
    "from imblearn.over_sampling import SMOTE\n",
    "\n",
    "# Apply SMOTE to balance the dataset\n",
    "smote = SMOTE(random_state=42)\n",
    "X_resampled, y_resampled = smote.fit_resample(X_train_scaled, y_train)\n",
    "\n",
    "# Train the model on the resampled data\n",
    "model = RandomForestClassifier(\n",
    "    random_state=42,\n",
    "    n_jobs=3,\n",
    "    class_weight={1: 5},\n",
    ")\n",
    "model.fit(X_resampled, y_resampled)\n",
    "\n",
    "\n",
    "\n",
    "# model = RandomForestClassifier(\n",
    "#     random_state=42,\n",
    "#     n_jobs=3,\n",
    "#     class_weight='balanced',\n",
    "# )\n",
    "# model.fit(X_train_scaled, y_train)"
   ]
  },
  {
   "cell_type": "code",
   "execution_count": null,
   "id": "90928cc6def80d55",
   "metadata": {
    "ExecuteTime": {
     "end_time": "2024-11-28T02:49:55.901332Z",
     "start_time": "2024-11-28T02:49:55.711939Z"
    }
   },
   "outputs": [],
   "source": [
    "\n",
    "joblib.dump(model, 'do-predict.joblib')"
   ]
  },
  {
   "cell_type": "markdown",
   "id": "d3e3b52a9372ca1",
   "metadata": {},
   "source": [
    "# Evaluate Model"
   ]
  },
  {
   "cell_type": "code",
   "execution_count": 13,
   "id": "df59570dddc452a6",
   "metadata": {
    "ExecuteTime": {
     "end_time": "2024-11-28T02:52:01.166535Z",
     "start_time": "2024-11-28T02:52:00.884325Z"
    }
   },
   "outputs": [
    {
     "name": "stdout",
     "output_type": "stream",
     "text": [
      "Accuracy: 0.95\n",
      "              precision    recall  f1-score   support\n",
      "\n",
      "           0       0.95      1.00      0.97       128\n",
      "           1       0.00      0.00      0.00         7\n",
      "\n",
      "    accuracy                           0.95       135\n",
      "   macro avg       0.47      0.50      0.49       135\n",
      "weighted avg       0.90      0.95      0.92       135\n",
      "\n",
      "ROC-AUC: 0.91\n"
     ]
    },
    {
     "name": "stderr",
     "output_type": "stream",
     "text": [
      "c:\\Users\\Asus\\Desktop\\AI\\test-profiler-ml\\venv\\Lib\\site-packages\\sklearn\\base.py:486: UserWarning: X has feature names, but RandomForestClassifier was fitted without feature names\n",
      "  warnings.warn(\n",
      "c:\\Users\\Asus\\Desktop\\AI\\test-profiler-ml\\venv\\Lib\\site-packages\\sklearn\\metrics\\_classification.py:1531: UndefinedMetricWarning: Precision is ill-defined and being set to 0.0 in labels with no predicted samples. Use `zero_division` parameter to control this behavior.\n",
      "  _warn_prf(average, modifier, f\"{metric.capitalize()} is\", len(result))\n",
      "c:\\Users\\Asus\\Desktop\\AI\\test-profiler-ml\\venv\\Lib\\site-packages\\sklearn\\metrics\\_classification.py:1531: UndefinedMetricWarning: Precision is ill-defined and being set to 0.0 in labels with no predicted samples. Use `zero_division` parameter to control this behavior.\n",
      "  _warn_prf(average, modifier, f\"{metric.capitalize()} is\", len(result))\n",
      "c:\\Users\\Asus\\Desktop\\AI\\test-profiler-ml\\venv\\Lib\\site-packages\\sklearn\\metrics\\_classification.py:1531: UndefinedMetricWarning: Precision is ill-defined and being set to 0.0 in labels with no predicted samples. Use `zero_division` parameter to control this behavior.\n",
      "  _warn_prf(average, modifier, f\"{metric.capitalize()} is\", len(result))\n"
     ]
    },
    {
     "data": {
      "image/png": "[encoded data removed]",
      "text/plain": [
       "<Figure size 640x480 with 2 Axes>"
      ]
     },
     "metadata": {},
     "output_type": "display_data"
    }
   ],
   "source": [
    "y_pred = model.predict(X_test_scaled)\n",
    "accuracy = accuracy_score(y_test, y_pred)\n",
    "print(f\"Accuracy: {accuracy:.2f}\")\n",
    "\n",
    "# Classification Report\n",
    "print(classification_report(y_test, y_pred))\n",
    "\n",
    "# ROC-AUC (only for models that output probabilities)\n",
    "if hasattr(model, \"predict_proba\"):\n",
    "    roc_auc = roc_auc_score(y_test, model.predict_proba(X_test_scaled)[:, 1])\n",
    "    print(f\"ROC-AUC: {roc_auc:.2f}\")\n",
    "\n",
    "# Confusion Matrix\n",
    "cm = confusion_matrix(y_test, y_pred)\n",
    "sns.heatmap(cm, annot=True, fmt='d', cmap='Blues')\n",
    "plt.title('Confusion Matrix')\n",
    "plt.show()"
   ]
  },
  {
   "cell_type": "markdown",
   "id": "abbb7b5cb3c52e50",
   "metadata": {},
   "source": [
    "# Visualize Feature Importance"
   ]
  },
  {
   "cell_type": "code",
   "execution_count": 8,
   "id": "1181524b6dde26c2",
   "metadata": {},
   "outputs": [
    {
     "data": {
      "image/png": "[encoded data removed]",
      "text/plain": [
       "<Figure size 640x480 with 1 Axes>"
      ]
     },
     "metadata": {},
     "output_type": "display_data"
    }
   ],
   "source": [
    "# Plot feature importance\n",
    "importances = model.feature_importances_\n",
    "feature_names = X.columns\n",
    "sns.barplot(x=importances, y=feature_names)\n",
    "plt.title('Feature Importance')\n",
    "plt.show()"
   ]
  },
  {
   "cell_type": "markdown",
   "id": "f03a08b8",
   "metadata": {},
   "source": [
    "# Test Model"
   ]
  },
  {
   "cell_type": "code",
   "execution_count": 18,
   "id": "5a4d7475",
   "metadata": {},
   "outputs": [],
   "source": [
    "model = load('do-predict.joblib')\n",
    "\n",
    "def predict_do(npm, data):\n",
    "\n",
    "    data_mhs = data[data['npm_mahasiswa'] == npm]\n",
    "\n",
    "    if data_mhs.empty:\n",
    "        return f\"Data {npm} tidak ditemukan.\"\n",
    "    \n",
    "    nama_mahasiswa = data_mhs['nama_mahasiswa'].values[0]\n",
    "\n",
    "    features = data_mhs[['ipk_mahasiswa', 'attendance_rate', 'total_activity_points','activity_count','angkatan_mahasiswa']].values\n",
    "\n",
    "    prediction = model.predict(features)\n",
    "\n",
    "    # Map the prediction to a human-readable status (assuming binary classification)\n",
    "    status_mapping = {0: 'Aktif', 1: 'Drop-out (putus studi)'}\n",
    "    predicted_status = status_mapping.get(prediction[0], 'Status tidak diketahui')\n",
    "\n",
    "    # Return the result\n",
    "    return f\"Mahasiswa {nama_mahasiswa} (NPM: {npm}) diprediksi memiliki status: {predicted_status}.\"\n"
   ]
  },
  {
   "cell_type": "code",
   "execution_count": 22,
   "id": "96cc173d",
   "metadata": {},
   "outputs": [
    {
     "name": "stdout",
     "output_type": "stream",
     "text": [
      "Mahasiswa Jefriyanto Chandra (NPM: 2231067) diprediksi memiliki status: Aktif.\n"
     ]
    }
   ],
   "source": [
    "test = predict_do(2231067, data)\n",
    "print(test)"
   ]
  },
  {
   "cell_type": "markdown",
   "id": "557a0659b2d5c733",
   "metadata": {},
   "source": [
    "# GridSearch"
   ]
  },
  {
   "cell_type": "code",
   "execution_count": 9,
   "id": "408ea223976c3c73",
   "metadata": {},
   "outputs": [
    {
     "name": "stdout",
     "output_type": "stream",
     "text": [
      "Fitting 3 folds for each of 108 candidates, totalling 324 fits\n",
      "Best Parameters: {'max_depth': None, 'min_samples_leaf': 2, 'min_samples_split': 5, 'n_estimators': 100}\n"
     ]
    }
   ],
   "source": [
    "from sklearn.model_selection import GridSearchCV\n",
    "\n",
    "param_grid = {\n",
    "    'n_estimators': [100, 200, 300],\n",
    "    'max_depth': [None, 10, 20, 30],\n",
    "    'min_samples_split': [2, 5, 10],\n",
    "    'min_samples_leaf': [1, 2, 4]\n",
    "}\n",
    "\n",
    "grid_search = GridSearchCV(\n",
    "    estimator=RandomForestClassifier(random_state=42),\n",
    "    param_grid=param_grid,\n",
    "    cv=3,\n",
    "    scoring='roc_auc',\n",
    "    verbose=2,\n",
    "    n_jobs=3,\n",
    ")\n",
    "\n",
    "grid_search.fit(X_train_scaled, y_train)\n",
    "best_model = grid_search.best_estimator_\n",
    "print(f\"Best Parameters: {grid_search.best_params_}\")"
   ]
  },
  {
   "cell_type": "markdown",
   "id": "8e4fa0f64fbb8d28",
   "metadata": {},
   "source": [
    "# Handle Imbalance"
   ]
  },
  {
   "cell_type": "code",
   "execution_count": 10,
   "id": "d915d08588282909",
   "metadata": {},
   "outputs": [
    {
     "name": "stdout",
     "output_type": "stream",
     "text": [
      "ipk_mahasiswa            0\n",
      "attendance_rate          0\n",
      "total_activity_points    0\n",
      "activity_count           0\n",
      "angkatan_mahasiswa       0\n",
      "dtype: int64\n"
     ]
    }
   ],
   "source": [
    "print(X.isnull().sum())"
   ]
  },
  {
   "cell_type": "code",
   "execution_count": 11,
   "id": "6e1f89e7b6299752",
   "metadata": {},
   "outputs": [],
   "source": [
    "model = RandomForestClassifier(class_weight='balanced', random_state=42)\n",
    "\n",
    "from imblearn.over_sampling import SMOTE\n",
    "\n",
    "smote = SMOTE(random_state=42)\n",
    "X_train_resampled, y_train_resampled = smote.fit_resample(X_train_scaled, y_train)"
   ]
  },
  {
   "cell_type": "markdown",
   "id": "da2f83c3511e093b",
   "metadata": {},
   "source": []
  }
 ],
 "metadata": {
  "kernelspec": {
   "display_name": "venv",
   "language": "python",
   "name": "python3"
  },
  "language_info": {
   "codemirror_mode": {
    "name": "ipython",
    "version": 3
   },
   "file_extension": ".py",
   "mimetype": "text/x-python",
   "name": "python",
   "nbconvert_exporter": "python",
   "pygments_lexer": "ipython3",
   "version": "3.12.7"
  }
 },
 "nbformat": 4,
 "nbformat_minor": 5
}
