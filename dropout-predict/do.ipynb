{
 "cells": [
  {
   "cell_type": "markdown",
   "id": "2d8330f0c1349f4",
   "metadata": {},
   "source": [
    "# Load Libraries"
   ]
  },
  {
   "cell_type": "code",
   "id": "709c11f567c13deb",
   "metadata": {
    "ExecuteTime": {
     "end_time": "2024-12-10T02:53:41.569592Z",
     "start_time": "2024-12-10T02:53:41.263362Z"
    }
   },
   "source": [
    "import pandas as pd\n",
    "import numpy as np\n",
    "import matplotlib.pyplot as plt\n",
    "import seaborn as sns\n",
    "from sklearn.model_selection import train_test_split\n",
    "from sklearn.preprocessing import StandardScaler, LabelEncoder\n",
    "from sklearn.ensemble import RandomForestClassifier\n",
    "from sklearn.metrics import accuracy_score, classification_report, roc_auc_score, confusion_matrix\n",
    "from joblib import dump, load\n",
    "from imblearn.over_sampling import SMOTE\n"
   ],
   "outputs": [],
   "execution_count": 1
  },
  {
   "cell_type": "markdown",
   "id": "2eeb339ac8ed8e63",
   "metadata": {},
   "source": [
    "# Preprocessing\n"
   ]
  },
  {
   "metadata": {
    "ExecuteTime": {
     "end_time": "2024-12-10T02:53:41.987459Z",
     "start_time": "2024-12-10T02:53:41.846150Z"
    }
   },
   "cell_type": "code",
   "outputs": [],
   "execution_count": 2,
   "source": [
    "mhs = pd.read_csv('../MHS.csv')\n",
    "mhs = mhs.drop(columns=['pembimbing_tugas_akhir'])\n",
    "\n",
    "sa = pd.read_csv('../SA.csv')\n",
    "krs = pd.read_csv('../KRS.csv')\n",
    "\n",
    "point_mapping = {\n",
    "    'Lokal': 1,\n",
    "    'Provinsi': 3,\n",
    "    'Nasional': 5,\n",
    "    'International': 10\n",
    "}\n",
    "\n",
    "# Apply mapping\n",
    "sa['points'] = sa['tingkat_kegiatan'].str.lower().map(point_mapping).fillna(1)\n",
    "\n",
    "# Calculate total points for each student\n",
    "sa_points = sa.groupby('npm')['points'].sum().reset_index()\n",
    "sa_points.rename(columns={'points': 'total_activity_points'}, inplace=True)\n",
    "\n",
    "# Calculate attendance percentage per course\n",
    "krs['attendance_percentage'] = (krs['total_hadir'] / krs['total_pertemuan']) * 100\n",
    "\n",
    "\n",
    "valid_grades = ['A', 'B', 'C', 'D', 'E']\n",
    "krs['kode_nilai'] = krs['kode_nilai'].apply(lambda x: x if x in valid_grades else 'E')\n",
    "# Step 2: Count occurrences of each grade per student\n",
    "grade_counts = krs.pivot_table(\n",
    "    index='npm', \n",
    "    columns='kode_nilai', \n",
    "    aggfunc='size', \n",
    "    fill_value=0\n",
    ")\n",
    "\n",
    "# Rename columns to indicate grade counts\n",
    "grade_counts.columns = [f'count_kode_nilai_{grade}' for grade in grade_counts.columns]\n",
    "\n",
    "# Step 3: Merge grade counts with main dataset\n",
    "mhs = mhs.merge(grade_counts, on='npm', how='left')\n",
    "\n",
    "# Fill missing counts with 0\n",
    "mhs.fillna(0, inplace=True)\n",
    "\n",
    "# Display the final dataset\n",
    "# print(mhs)\n",
    "# \n",
    "total_sks = krs.groupby('npm')['sks_matakuliah'].sum().reset_index()\n",
    "total_sks.rename(columns={'sks_matakuliah': 'total_sks'}, inplace=True)\n",
    "\n",
    "attendance = krs.groupby('npm')['attendance_percentage'].mean().reset_index()\n",
    "attendance.rename(columns={'attendance_percentage': 'attendance_rate'}, inplace=True)\n",
    "\n",
    "# Merge SA and KRS aggregated data with MHS.csv\n",
    "\n",
    "data = mhs.merge(sa_points, on='npm', how='left')\n",
    "data = data.merge(total_sks, on='npm', how='left')\n",
    "data = data.merge(attendance, on='npm', how='left')\n",
    "\n",
    "data.fillna(0, inplace=True)\n",
    "\n",
    "# Fill missing values (e.g., students with no activities or KRS data)\n",
    "data['attendance_rate'] = data['attendance_rate'].fillna(0)\n",
    "data['ipk_mahasiswa'] = data['ipk_mahasiswa'].fillna(0)\n",
    "\n",
    "data.dropna(inplace=True)\n",
    "\n",
    "# data['attendance_rate'] = data['total_hadir'] / data['total_pertemuan']\n",
    "data['activity_count'] = sa.groupby('npm')['nama_kegiatan'].transform('count')\n",
    "data['activity_count'] = data['activity_count'].fillna(0)\n"
   ],
   "id": "c9b4b29c92d79750"
  },
  {
   "metadata": {
    "ExecuteTime": {
     "end_time": "2024-12-10T02:49:38.547634Z",
     "start_time": "2024-12-10T02:49:38.517019Z"
    }
   },
   "cell_type": "code",
   "outputs": [
    {
     "data": {
      "text/plain": [
       "       npm nama_mahasiswa   prodi_mahasiswa  angkatan_mahasiswa  \\\n",
       "0  1931173      Celine Te  Sistem Informasi                2019   \n",
       "1  1931001   Rido Renando  Sistem Informasi                2019   \n",
       "2  1931009  Richie Marlon  Sistem Informasi                2019   \n",
       "3  1931083    Elvin Whang  Sistem Informasi                2019   \n",
       "4  2031001  Robin Sunjaya  Sistem Informasi                2020   \n",
       "\n",
       "   ipk_mahasiswa status_mahasiswa  count_kode_nilai_A  count_kode_nilai_B  \\\n",
       "0           3.87            Lulus                45.0                 8.0   \n",
       "1           3.72            Lulus                39.0                10.0   \n",
       "2           3.90            Lulus                46.0                 7.0   \n",
       "3           3.68            Lulus                37.0                15.0   \n",
       "4           3.88            Aktif                46.0                 6.0   \n",
       "\n",
       "   count_kode_nilai_C  count_kode_nilai_D  count_kode_nilai_E  \\\n",
       "0                 0.0                 0.0                 0.0   \n",
       "1                 4.0                 0.0                 0.0   \n",
       "2                 0.0                 0.0                 0.0   \n",
       "3                 1.0                 0.0                 0.0   \n",
       "4                 2.0                 0.0                 0.0   \n",
       "\n",
       "   total_activity_points  total_sks  attendance_rate  activity_count  \n",
       "0                   18.0      145.0        94.841270              23  \n",
       "1                   26.0      145.0        96.428571              61  \n",
       "2                   15.0      145.0        88.571429              61  \n",
       "3                    9.0      145.0        93.831169              53  \n",
       "4                   31.0      149.0        90.527950              53  "
      ],
      "text/html": [
       "<div>\n",
       "<style scoped>\n",
       "    .dataframe tbody tr th:only-of-type {\n",
       "        vertical-align: middle;\n",
       "    }\n",
       "\n",
       "    .dataframe tbody tr th {\n",
       "        vertical-align: top;\n",
       "    }\n",
       "\n",
       "    .dataframe thead th {\n",
       "        text-align: right;\n",
       "    }\n",
       "</style>\n",
       "<table border=\"1\" class=\"dataframe\">\n",
       "  <thead>\n",
       "    <tr style=\"text-align: right;\">\n",
       "      <th></th>\n",
       "      <th>npm</th>\n",
       "      <th>nama_mahasiswa</th>\n",
       "      <th>prodi_mahasiswa</th>\n",
       "      <th>angkatan_mahasiswa</th>\n",
       "      <th>ipk_mahasiswa</th>\n",
       "      <th>status_mahasiswa</th>\n",
       "      <th>count_kode_nilai_A</th>\n",
       "      <th>count_kode_nilai_B</th>\n",
       "      <th>count_kode_nilai_C</th>\n",
       "      <th>count_kode_nilai_D</th>\n",
       "      <th>count_kode_nilai_E</th>\n",
       "      <th>total_activity_points</th>\n",
       "      <th>total_sks</th>\n",
       "      <th>attendance_rate</th>\n",
       "      <th>activity_count</th>\n",
       "    </tr>\n",
       "  </thead>\n",
       "  <tbody>\n",
       "    <tr>\n",
       "      <th>0</th>\n",
       "      <td>1931173</td>\n",
       "      <td>Celine Te</td>\n",
       "      <td>Sistem Informasi</td>\n",
       "      <td>2019</td>\n",
       "      <td>3.87</td>\n",
       "      <td>Lulus</td>\n",
       "      <td>45.0</td>\n",
       "      <td>8.0</td>\n",
       "      <td>0.0</td>\n",
       "      <td>0.0</td>\n",
       "      <td>0.0</td>\n",
       "      <td>18.0</td>\n",
       "      <td>145.0</td>\n",
       "      <td>94.841270</td>\n",
       "      <td>23</td>\n",
       "    </tr>\n",
       "    <tr>\n",
       "      <th>1</th>\n",
       "      <td>1931001</td>\n",
       "      <td>Rido Renando</td>\n",
       "      <td>Sistem Informasi</td>\n",
       "      <td>2019</td>\n",
       "      <td>3.72</td>\n",
       "      <td>Lulus</td>\n",
       "      <td>39.0</td>\n",
       "      <td>10.0</td>\n",
       "      <td>4.0</td>\n",
       "      <td>0.0</td>\n",
       "      <td>0.0</td>\n",
       "      <td>26.0</td>\n",
       "      <td>145.0</td>\n",
       "      <td>96.428571</td>\n",
       "      <td>61</td>\n",
       "    </tr>\n",
       "    <tr>\n",
       "      <th>2</th>\n",
       "      <td>1931009</td>\n",
       "      <td>Richie Marlon</td>\n",
       "      <td>Sistem Informasi</td>\n",
       "      <td>2019</td>\n",
       "      <td>3.90</td>\n",
       "      <td>Lulus</td>\n",
       "      <td>46.0</td>\n",
       "      <td>7.0</td>\n",
       "      <td>0.0</td>\n",
       "      <td>0.0</td>\n",
       "      <td>0.0</td>\n",
       "      <td>15.0</td>\n",
       "      <td>145.0</td>\n",
       "      <td>88.571429</td>\n",
       "      <td>61</td>\n",
       "    </tr>\n",
       "    <tr>\n",
       "      <th>3</th>\n",
       "      <td>1931083</td>\n",
       "      <td>Elvin Whang</td>\n",
       "      <td>Sistem Informasi</td>\n",
       "      <td>2019</td>\n",
       "      <td>3.68</td>\n",
       "      <td>Lulus</td>\n",
       "      <td>37.0</td>\n",
       "      <td>15.0</td>\n",
       "      <td>1.0</td>\n",
       "      <td>0.0</td>\n",
       "      <td>0.0</td>\n",
       "      <td>9.0</td>\n",
       "      <td>145.0</td>\n",
       "      <td>93.831169</td>\n",
       "      <td>53</td>\n",
       "    </tr>\n",
       "    <tr>\n",
       "      <th>4</th>\n",
       "      <td>2031001</td>\n",
       "      <td>Robin Sunjaya</td>\n",
       "      <td>Sistem Informasi</td>\n",
       "      <td>2020</td>\n",
       "      <td>3.88</td>\n",
       "      <td>Aktif</td>\n",
       "      <td>46.0</td>\n",
       "      <td>6.0</td>\n",
       "      <td>2.0</td>\n",
       "      <td>0.0</td>\n",
       "      <td>0.0</td>\n",
       "      <td>31.0</td>\n",
       "      <td>149.0</td>\n",
       "      <td>90.527950</td>\n",
       "      <td>53</td>\n",
       "    </tr>\n",
       "  </tbody>\n",
       "</table>\n",
       "</div>"
      ]
     },
     "execution_count": 3,
     "metadata": {},
     "output_type": "execute_result"
    }
   ],
   "execution_count": 3,
   "source": "data.head()",
   "id": "7238dcf1e422ffa1"
  },
  {
   "cell_type": "markdown",
   "id": "ec31daae4339f8f9",
   "metadata": {},
   "source": [
    "# Train Model"
   ]
  },
  {
   "cell_type": "code",
   "id": "d0cc7c7b24380cb7",
   "metadata": {
    "ExecuteTime": {
     "end_time": "2024-12-10T03:46:21.380727Z",
     "start_time": "2024-12-10T03:46:21.154145Z"
    }
   },
   "source": [
    "# Apply SMOTE to balance the dataset\n",
    "X = data[['ipk_mahasiswa', 'attendance_rate', 'total_activity_points','activity_count','angkatan_mahasiswa', 'count_kode_nilai_A', 'count_kode_nilai_B',\n",
    "          'count_kode_nilai_C', 'count_kode_nilai_D', 'count_kode_nilai_E']]\n",
    "y = (data['status_mahasiswa'].isin(['Drop-out (putus studi)', 'Keluar'])).astype(int)\n",
    "\n",
    "print(y.value_counts())\n",
    "\n",
    "# Train-test split\n",
    "X_train, X_test, y_train, y_test = train_test_split(X, y, test_size=0.2, random_state=42)\n",
    "\n",
    "smote = SMOTE(random_state=42)\n",
    "X_resampled, y_resampled = smote.fit_resample(X_train, y_train)\n",
    "\n",
    "# Train a Random Forest model\n",
    "model = RandomForestClassifier(random_state=42)\n",
    "model.fit(X_resampled, y_resampled)\n",
    "\n",
    "# Predict probabilities\n",
    "probabilities = model.predict_proba(X_test)[:, 1]  # Probability of class 1 (Drop-out or Keluar)\n",
    "\n",
    "# Convert probabilities to percentages\n",
    "percentages = probabilities * 100\n",
    "\n",
    "# Show results\n",
    "for i, prob in enumerate(percentages):\n",
    "    print(f\"Student {i + 1} - Likelihood of Drop-out: {prob:.2f}%\")"
   ],
   "outputs": [
    {
     "name": "stdout",
     "output_type": "stream",
     "text": [
      "status_mahasiswa\n",
      "0    640\n",
      "1     33\n",
      "Name: count, dtype: int64\n",
      "Student 1 - Likelihood of Drop-out: 0.00%\n",
      "Student 2 - Likelihood of Drop-out: 0.00%\n",
      "Student 3 - Likelihood of Drop-out: 0.00%\n",
      "Student 4 - Likelihood of Drop-out: 0.00%\n",
      "Student 5 - Likelihood of Drop-out: 2.00%\n",
      "Student 6 - Likelihood of Drop-out: 0.00%\n",
      "Student 7 - Likelihood of Drop-out: 8.00%\n",
      "Student 8 - Likelihood of Drop-out: 1.00%\n",
      "Student 9 - Likelihood of Drop-out: 1.00%\n",
      "Student 10 - Likelihood of Drop-out: 2.00%\n",
      "Student 11 - Likelihood of Drop-out: 1.00%\n",
      "Student 12 - Likelihood of Drop-out: 0.00%\n",
      "Student 13 - Likelihood of Drop-out: 0.00%\n",
      "Student 14 - Likelihood of Drop-out: 2.00%\n",
      "Student 15 - Likelihood of Drop-out: 0.00%\n",
      "Student 16 - Likelihood of Drop-out: 0.00%\n",
      "Student 17 - Likelihood of Drop-out: 0.00%\n",
      "Student 18 - Likelihood of Drop-out: 0.00%\n",
      "Student 19 - Likelihood of Drop-out: 0.00%\n",
      "Student 20 - Likelihood of Drop-out: 0.00%\n",
      "Student 21 - Likelihood of Drop-out: 0.00%\n",
      "Student 22 - Likelihood of Drop-out: 55.00%\n",
      "Student 23 - Likelihood of Drop-out: 89.00%\n",
      "Student 24 - Likelihood of Drop-out: 0.00%\n",
      "Student 25 - Likelihood of Drop-out: 87.00%\n",
      "Student 26 - Likelihood of Drop-out: 2.00%\n",
      "Student 27 - Likelihood of Drop-out: 0.00%\n",
      "Student 28 - Likelihood of Drop-out: 0.00%\n",
      "Student 29 - Likelihood of Drop-out: 0.00%\n",
      "Student 30 - Likelihood of Drop-out: 0.00%\n",
      "Student 31 - Likelihood of Drop-out: 1.00%\n",
      "Student 32 - Likelihood of Drop-out: 3.00%\n",
      "Student 33 - Likelihood of Drop-out: 1.00%\n",
      "Student 34 - Likelihood of Drop-out: 0.00%\n",
      "Student 35 - Likelihood of Drop-out: 0.00%\n",
      "Student 36 - Likelihood of Drop-out: 0.00%\n",
      "Student 37 - Likelihood of Drop-out: 0.00%\n",
      "Student 38 - Likelihood of Drop-out: 2.00%\n",
      "Student 39 - Likelihood of Drop-out: 0.00%\n",
      "Student 40 - Likelihood of Drop-out: 0.00%\n",
      "Student 41 - Likelihood of Drop-out: 0.00%\n",
      "Student 42 - Likelihood of Drop-out: 12.00%\n",
      "Student 43 - Likelihood of Drop-out: 7.00%\n",
      "Student 44 - Likelihood of Drop-out: 0.00%\n",
      "Student 45 - Likelihood of Drop-out: 3.00%\n",
      "Student 46 - Likelihood of Drop-out: 0.00%\n",
      "Student 47 - Likelihood of Drop-out: 1.00%\n",
      "Student 48 - Likelihood of Drop-out: 0.00%\n",
      "Student 49 - Likelihood of Drop-out: 0.00%\n",
      "Student 50 - Likelihood of Drop-out: 0.00%\n",
      "Student 51 - Likelihood of Drop-out: 0.00%\n",
      "Student 52 - Likelihood of Drop-out: 12.00%\n",
      "Student 53 - Likelihood of Drop-out: 0.00%\n",
      "Student 54 - Likelihood of Drop-out: 0.00%\n",
      "Student 55 - Likelihood of Drop-out: 52.00%\n",
      "Student 56 - Likelihood of Drop-out: 3.00%\n",
      "Student 57 - Likelihood of Drop-out: 1.00%\n",
      "Student 58 - Likelihood of Drop-out: 0.00%\n",
      "Student 59 - Likelihood of Drop-out: 3.00%\n",
      "Student 60 - Likelihood of Drop-out: 0.00%\n",
      "Student 61 - Likelihood of Drop-out: 0.00%\n",
      "Student 62 - Likelihood of Drop-out: 0.00%\n",
      "Student 63 - Likelihood of Drop-out: 4.00%\n",
      "Student 64 - Likelihood of Drop-out: 0.00%\n",
      "Student 65 - Likelihood of Drop-out: 0.00%\n",
      "Student 66 - Likelihood of Drop-out: 0.00%\n",
      "Student 67 - Likelihood of Drop-out: 1.00%\n",
      "Student 68 - Likelihood of Drop-out: 3.00%\n",
      "Student 69 - Likelihood of Drop-out: 0.00%\n",
      "Student 70 - Likelihood of Drop-out: 22.00%\n",
      "Student 71 - Likelihood of Drop-out: 0.00%\n",
      "Student 72 - Likelihood of Drop-out: 0.00%\n",
      "Student 73 - Likelihood of Drop-out: 0.00%\n",
      "Student 74 - Likelihood of Drop-out: 0.00%\n",
      "Student 75 - Likelihood of Drop-out: 0.00%\n",
      "Student 76 - Likelihood of Drop-out: 1.00%\n",
      "Student 77 - Likelihood of Drop-out: 63.00%\n",
      "Student 78 - Likelihood of Drop-out: 1.00%\n",
      "Student 79 - Likelihood of Drop-out: 2.00%\n",
      "Student 80 - Likelihood of Drop-out: 0.00%\n",
      "Student 81 - Likelihood of Drop-out: 1.00%\n",
      "Student 82 - Likelihood of Drop-out: 0.00%\n",
      "Student 83 - Likelihood of Drop-out: 6.00%\n",
      "Student 84 - Likelihood of Drop-out: 0.00%\n",
      "Student 85 - Likelihood of Drop-out: 0.00%\n",
      "Student 86 - Likelihood of Drop-out: 0.00%\n",
      "Student 87 - Likelihood of Drop-out: 45.00%\n",
      "Student 88 - Likelihood of Drop-out: 0.00%\n",
      "Student 89 - Likelihood of Drop-out: 0.00%\n",
      "Student 90 - Likelihood of Drop-out: 0.00%\n",
      "Student 91 - Likelihood of Drop-out: 0.00%\n",
      "Student 92 - Likelihood of Drop-out: 5.00%\n",
      "Student 93 - Likelihood of Drop-out: 1.00%\n",
      "Student 94 - Likelihood of Drop-out: 0.00%\n",
      "Student 95 - Likelihood of Drop-out: 1.00%\n",
      "Student 96 - Likelihood of Drop-out: 0.00%\n",
      "Student 97 - Likelihood of Drop-out: 0.00%\n",
      "Student 98 - Likelihood of Drop-out: 0.00%\n",
      "Student 99 - Likelihood of Drop-out: 63.00%\n",
      "Student 100 - Likelihood of Drop-out: 2.00%\n",
      "Student 101 - Likelihood of Drop-out: 0.00%\n",
      "Student 102 - Likelihood of Drop-out: 0.00%\n",
      "Student 103 - Likelihood of Drop-out: 0.00%\n",
      "Student 104 - Likelihood of Drop-out: 0.00%\n",
      "Student 105 - Likelihood of Drop-out: 1.00%\n",
      "Student 106 - Likelihood of Drop-out: 1.00%\n",
      "Student 107 - Likelihood of Drop-out: 0.00%\n",
      "Student 108 - Likelihood of Drop-out: 3.00%\n",
      "Student 109 - Likelihood of Drop-out: 9.00%\n",
      "Student 110 - Likelihood of Drop-out: 0.00%\n",
      "Student 111 - Likelihood of Drop-out: 0.00%\n",
      "Student 112 - Likelihood of Drop-out: 0.00%\n",
      "Student 113 - Likelihood of Drop-out: 5.00%\n",
      "Student 114 - Likelihood of Drop-out: 0.00%\n",
      "Student 115 - Likelihood of Drop-out: 0.00%\n",
      "Student 116 - Likelihood of Drop-out: 0.00%\n",
      "Student 117 - Likelihood of Drop-out: 14.00%\n",
      "Student 118 - Likelihood of Drop-out: 0.00%\n",
      "Student 119 - Likelihood of Drop-out: 1.00%\n",
      "Student 120 - Likelihood of Drop-out: 0.00%\n",
      "Student 121 - Likelihood of Drop-out: 0.00%\n",
      "Student 122 - Likelihood of Drop-out: 0.00%\n",
      "Student 123 - Likelihood of Drop-out: 1.00%\n",
      "Student 124 - Likelihood of Drop-out: 0.00%\n",
      "Student 125 - Likelihood of Drop-out: 29.00%\n",
      "Student 126 - Likelihood of Drop-out: 0.00%\n",
      "Student 127 - Likelihood of Drop-out: 100.00%\n",
      "Student 128 - Likelihood of Drop-out: 3.00%\n",
      "Student 129 - Likelihood of Drop-out: 2.00%\n",
      "Student 130 - Likelihood of Drop-out: 0.00%\n",
      "Student 131 - Likelihood of Drop-out: 0.00%\n",
      "Student 132 - Likelihood of Drop-out: 0.00%\n",
      "Student 133 - Likelihood of Drop-out: 2.00%\n",
      "Student 134 - Likelihood of Drop-out: 0.00%\n",
      "Student 135 - Likelihood of Drop-out: 1.00%\n",
      "\n",
      "Classification Report:\n",
      "              precision    recall  f1-score   support\n",
      "\n",
      "           0       0.98      0.99      0.99       127\n",
      "           1       0.86      0.75      0.80         8\n",
      "\n",
      "    accuracy                           0.98       135\n",
      "   macro avg       0.92      0.87      0.89       135\n",
      "weighted avg       0.98      0.98      0.98       135\n",
      "\n",
      "ROC AUC Score: 0.9970472440944882\n"
     ]
    }
   ],
   "execution_count": 40
  },
  {
   "cell_type": "code",
   "id": "90928cc6def80d55",
   "metadata": {
    "ExecuteTime": {
     "end_time": "2024-12-10T03:46:29.311604Z",
     "start_time": "2024-12-10T03:46:29.253578Z"
    }
   },
   "source": "dump(model, 'do-predict.joblib')",
   "outputs": [
    {
     "data": {
      "text/plain": [
       "['do-predict.joblib']"
      ]
     },
     "execution_count": 41,
     "metadata": {},
     "output_type": "execute_result"
    }
   ],
   "execution_count": 41
  },
  {
   "cell_type": "markdown",
   "id": "d3e3b52a9372ca1",
   "metadata": {},
   "source": [
    "# Evaluate Model"
   ]
  },
  {
   "cell_type": "code",
   "id": "df59570dddc452a6",
   "metadata": {
    "ExecuteTime": {
     "end_time": "2024-12-10T03:46:59.742326Z",
     "start_time": "2024-12-10T03:46:59.718599Z"
    }
   },
   "source": [
    "y_pred = model.predict(X_test)\n",
    "print(\"\\nClassification Report:\")\n",
    "print(classification_report(y_test, y_pred))\n",
    "\n",
    "print(\"ROC AUC Score:\", roc_auc_score(y_test, probabilities))"
   ],
   "outputs": [
    {
     "name": "stdout",
     "output_type": "stream",
     "text": [
      "\n",
      "Classification Report:\n",
      "              precision    recall  f1-score   support\n",
      "\n",
      "           0       0.98      0.99      0.99       127\n",
      "           1       0.86      0.75      0.80         8\n",
      "\n",
      "    accuracy                           0.98       135\n",
      "   macro avg       0.92      0.87      0.89       135\n",
      "weighted avg       0.98      0.98      0.98       135\n",
      "\n",
      "ROC AUC Score: 0.9970472440944882\n"
     ]
    }
   ],
   "execution_count": 42
  },
  {
   "cell_type": "markdown",
   "id": "abbb7b5cb3c52e50",
   "metadata": {},
   "source": [
    "# Visualize Feature Importance"
   ]
  },
  {
   "cell_type": "code",
   "id": "1181524b6dde26c2",
   "metadata": {
    "ExecuteTime": {
     "end_time": "2024-12-10T03:43:03.787679Z",
     "start_time": "2024-12-10T03:43:03.579048Z"
    }
   },
   "source": [
    "# Plot feature importance\n",
    "importances = model.feature_importances_\n",
    "feature_names = X.columns\n",
    "sns.barplot(x=importances, y=feature_names)\n",
    "plt.title('Feature Importance')\n",
    "plt.show()"
   ],
   "outputs": [
    {
     "data": {
      "text/plain": [
       "<Figure size 640x480 with 1 Axes>"
      ],
      "image/png": "[encoded data removed]"
     },
     "metadata": {},
     "output_type": "display_data"
    }
   ],
   "execution_count": 37
  },
  {
   "cell_type": "markdown",
   "id": "f03a08b8",
   "metadata": {},
   "source": [
    "# Test Model"
   ]
  },
  {
   "cell_type": "code",
   "id": "5a4d7475",
   "metadata": {
    "ExecuteTime": {
     "end_time": "2024-12-10T03:43:08.099815Z",
     "start_time": "2024-12-10T03:43:08.093579Z"
    }
   },
   "source": [
    "# model = load('do-predict.joblib')\n",
    "\n",
    "def predict_do(npm, data):\n",
    "\n",
    "    data_mhs = data[data['npm'] == npm]\n",
    "\n",
    "    if data_mhs.empty:\n",
    "        return f\"Data {npm} tidak ditemukan.\"\n",
    "    \n",
    "    nama_mahasiswa = data_mhs['nama_mahasiswa'].values[0]\n",
    "\n",
    "    features = data_mhs[['ipk_mahasiswa', 'attendance_rate', 'total_activity_points','activity_count','angkatan_mahasiswa', 'count_kode_nilai_A', 'count_kode_nilai_B',\n",
    "          'count_kode_nilai_C', 'count_kode_nilai_D', 'count_kode_nilai_E']]\n",
    "    \n",
    "    # Get the probability of the student being in the \"Drop-out\" class\n",
    "    prediction = model.predict_proba(features)[:, 1] * 100  # Use [:, 1] for \"Drop-out\" probability\n",
    "    \n",
    "    # Format and return the prediction\n",
    "    return f\"Mahasiswa {nama_mahasiswa} (NPM: {npm}) diprediksi memiliki kemungkinan DO sebesar: {prediction[0]:.2f}%.\""
   ],
   "outputs": [],
   "execution_count": 38
  },
  {
   "cell_type": "code",
   "id": "96cc173d",
   "metadata": {
    "ExecuteTime": {
     "end_time": "2024-12-10T03:43:10.815311Z",
     "start_time": "2024-12-10T03:43:10.801571Z"
    }
   },
   "source": [
    "test = predict_do(2031055, data)\n",
    "print(test)"
   ],
   "outputs": [
    {
     "name": "stdout",
     "output_type": "stream",
     "text": [
      "Mahasiswa Edmund (NPM: 2031055) diprediksi memiliki kemungkinan DO sebesar: 98.00%.\n"
     ]
    }
   ],
   "execution_count": 39
  },
  {
   "cell_type": "markdown",
   "id": "557a0659b2d5c733",
   "metadata": {},
   "source": [
    "# GridSearch"
   ]
  },
  {
   "cell_type": "code",
   "id": "408ea223976c3c73",
   "metadata": {},
   "source": [
    "from sklearn.model_selection import GridSearchCV\n",
    "\n",
    "param_grid = {\n",
    "    'n_estimators': [100, 200, 300],\n",
    "    'max_depth': [None, 10, 20, 30],\n",
    "    'min_samples_split': [2, 5, 10],\n",
    "    'min_samples_leaf': [1, 2, 4]\n",
    "}\n",
    "\n",
    "grid_search = GridSearchCV(\n",
    "    estimator=RandomForestClassifier(random_state=42),\n",
    "    param_grid=param_grid,\n",
    "    cv=3,\n",
    "    scoring='roc_auc',\n",
    "    verbose=2,\n",
    "    n_jobs=3,\n",
    ")\n",
    "\n",
    "grid_search.fit(X_train_scaled, y_train)\n",
    "best_model = grid_search.best_estimator_\n",
    "print(f\"Best Parameters: {grid_search.best_params_}\")"
   ],
   "outputs": [],
   "execution_count": null
  },
  {
   "cell_type": "markdown",
   "id": "da2f83c3511e093b",
   "metadata": {},
   "source": []
  }
 ],
 "metadata": {
  "kernelspec": {
   "display_name": "venv",
   "language": "python",
   "name": "python3"
  },
  "language_info": {
   "codemirror_mode": {
    "name": "ipython",
    "version": 3
   },
   "file_extension": ".py",
   "mimetype": "text/x-python",
   "name": "python",
   "nbconvert_exporter": "python",
   "pygments_lexer": "ipython3",
   "version": "3.12.7"
  }
 },
 "nbformat": 4,
 "nbformat_minor": 5
}
