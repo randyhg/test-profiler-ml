{
 "cells": [
  {
   "cell_type": "markdown",
   "metadata": {},
   "source": [
    "# Identifying Student Favorite Activities"
   ]
  },
  {
   "cell_type": "code",
   "metadata": {
    "ExecuteTime": {
     "end_time": "2024-12-13T13:51:45.026852Z",
     "start_time": "2024-12-13T13:51:44.834674Z"
    }
   },
   "source": [
    "# Import Libraries\n",
    "\n",
    "import pandas as pd\n",
    "import numpy as np\n",
    "import matplotlib.pyplot as plt\n",
    "import seaborn as sns\n",
    "from sklearn.cluster import KMeans\n",
    "from sklearn.preprocessing import StandardScaler, OneHotEncoder\n",
    "from sklearn.metrics import silhouette_score\n",
    "from sklearn.preprocessing import LabelEncoder\n",
    "from joblib import dump, load\n",
    "from sklearn.metrics.pairwise import cosine_similarity\n",
    "from sklearn.feature_extraction.text import TfidfVectorizer, ENGLISH_STOP_WORDS\n",
    "\n",
    "%matplotlib inline"
   ],
   "outputs": [],
   "execution_count": 34
  },
  {
   "cell_type": "markdown",
   "metadata": {},
   "source": [
    "## 1. Load Data"
   ]
  },
  {
   "cell_type": "code",
   "metadata": {
    "ExecuteTime": {
     "end_time": "2024-12-13T13:51:46.241187Z",
     "start_time": "2024-12-13T13:51:46.188324Z"
    }
   },
   "source": [
    "data_mahasiswa=pd.read_csv(\"../MHS.csv\")\n",
    "data_kegiatan=pd.read_csv(\"../SA.csv\")\n"
   ],
   "outputs": [],
   "execution_count": 35
  },
  {
   "metadata": {},
   "cell_type": "markdown",
   "source": "## 2. Data Preprocessing"
  },
  {
   "metadata": {
    "ExecuteTime": {
     "end_time": "2024-12-13T13:55:31.123509Z",
     "start_time": "2024-12-13T13:55:29.458124Z"
    }
   },
   "cell_type": "code",
   "source": [
    "# Define custom stop words\n",
    "def get_custom_stop_words():\n",
    "    return set([\n",
    "        # English stop words\n",
    "        'the', 'a', 'an', 'and', 'or', 'but', 'in', 'on', 'at', 'to', 'for', 'of', 'with', 'by',\n",
    "        # English words\n",
    "        'ready', 'seminar', 'webinar', 'uib', 'local', 'national', 'international',\n",
    "        'lokal', 'nasional', 'internasional', 'lgbt', 'series', 'club', 'meeting', 'conversation',\n",
    "        'get', 'self', 'learning', 'skills', 'out', 'find', 'your', 'beginners', 'beginner', 'learn',\n",
    "        'course', 'fundamentals', 'pengembangan', 'kepribadian', 'how', 'rules', 'about', 'collaboration',\n",
    "        # Indonesian stop words\n",
    "        'yang', 'di', 'ke', 'dari', 'dalam', 'pada', 'dengan', 'dan', 'atau',\n",
    "        # Bahasa Indonesia words\n",
    "        'ukm', 'merdeka', 'jam', 'belajar', 'sertifikasi', 'generasi', \n",
    "        # Conjunctions\n",
    "        'namun', 'tetapi', 'akan', 'serta', 'karena', 'sebab',\n",
    "        # Numbers and years (generic removal)\n",
    "        '2020', '2021', '2022', '2023', '2024',\n",
    "        '0', '1', '2', '3', '4', '5', '6', '7', '8', '9',\n",
    "        # Additional filtering\n",
    "    ])\n",
    "\n",
    "# Fit TF-IDF model and create student profiles\n",
    "def fit_tfidf_model(activities, student_ids, stop_words=None):\n",
    "    if stop_words is None:\n",
    "        stop_words = get_custom_stop_words()\n",
    "\n",
    "    # Create TF-IDF Vectorizer\n",
    "    tfidf = TfidfVectorizer(stop_words=list(stop_words))\n",
    "    tfidf_matrix = tfidf.fit_transform(activities)\n",
    "\n",
    "    # Get feature names (keywords)\n",
    "    keywords = tfidf.get_feature_names_out()\n",
    "\n",
    "    # Create student profiles by aggregating keywords\n",
    "    activity_keywords = pd.DataFrame(\n",
    "        tfidf_matrix.toarray(),\n",
    "        columns=keywords,\n",
    "        index=student_ids\n",
    "    )\n",
    "    student_profiles = activity_keywords.groupby(activity_keywords.index).sum()\n",
    "\n",
    "    return {\n",
    "        'tfidf': tfidf,\n",
    "        'tfidf_matrix': tfidf_matrix,\n",
    "        'keywords': keywords,\n",
    "        'student_profiles': student_profiles\n",
    "    }\n",
    "\n",
    "# Find similar students based on their keyword profiles\n",
    "def find_similar_students(student_id, student_similarity_df, top_n=5):\n",
    "    if student_id not in student_similarity_df.index:\n",
    "        raise KeyError(f\"Student ID {student_id} not found.\")\n",
    "    \n",
    "    # Sort similar students\n",
    "    similar_students = student_similarity_df.loc[student_id].sort_values(ascending=False)\n",
    "    return similar_students.head(top_n + 1).iloc[1:]  # Exclude the student themselves\n",
    "\n",
    "# Recommend keywords based on similar students\n",
    "def recommend_based_on_similar_students(student_id, student_similarity_df, student_keyword_matrix, top_n=5):\n",
    "    similar_students = find_similar_students(student_id, student_similarity_df).index\n",
    "    # Aggregate keywords from similar students\n",
    "    similar_profiles = student_keyword_matrix.loc[similar_students].sum(axis=0)\n",
    "    # Sort and recommend top keywords\n",
    "    return similar_profiles.sort_values(ascending=False).head(top_n)\n",
    "\n",
    "# Recommend keywords for a specific student\n",
    "def recommend_keywords(student_id, student_profiles, keywords, top_n=5):\n",
    "    if student_id not in student_profiles.index:\n",
    "        raise KeyError(f\"Student ID {student_id} not found.\")\n",
    "\n",
    "    # Sort keywords by importance for the student\n",
    "    student_keywords = student_profiles.loc[student_id].sort_values(ascending=False)\n",
    "    return student_keywords.head(top_n)\n",
    "\n",
    "# Visualize top keywords for a student\n",
    "def visualize_student_keywords(student_id, student_profiles, top_n=5):\n",
    "    try:\n",
    "        top_keywords = recommend_keywords(student_id, student_profiles, None, top_n)\n",
    "        plt.figure(figsize=(12, 6))\n",
    "        top_keywords.plot(kind='bar')\n",
    "        plt.title(f'Top {top_n} Keywords for Student {student_id}')\n",
    "        plt.xlabel('Keywords')\n",
    "        plt.ylabel('TF-IDF Score')\n",
    "        plt.xticks(rotation=45, ha='right')\n",
    "        plt.tight_layout()\n",
    "        plt.show()\n",
    "    except KeyError as e:\n",
    "        print(e)\n",
    "\n",
    "# Main function to build the model and compute similarities\n",
    "def build_student_recommendation_model(data_kegiatan):\n",
    "    # Fit the model\n",
    "    model_components = fit_tfidf_model(data_kegiatan['nama_kegiatan'], data_kegiatan['npm'])\n",
    "\n",
    "    # Compute student similarity matrix\n",
    "    student_keyword_matrix = model_components['student_profiles']\n",
    "    student_similarity = cosine_similarity(student_keyword_matrix)\n",
    "    student_similarity_df = pd.DataFrame(\n",
    "        student_similarity,\n",
    "        index=student_keyword_matrix.index,\n",
    "        columns=student_keyword_matrix.index\n",
    "    )\n",
    "\n",
    "    return {\n",
    "        'model_components': model_components,\n",
    "        'student_similarity_df': student_similarity_df\n",
    "    }\n",
    "\n",
    "# Save the model\n",
    "def save_model(model, filepath):\n",
    "    dump(model, filepath)\n",
    "    print(f\"Model saved to {filepath}\")\n",
    "\n",
    "# Load the model\n",
    "def load_model(filepath):\n",
    "    model = load(filepath)\n",
    "    print(f\"Model loaded from {filepath}\")\n",
    "    return model\n",
    "\n",
    "# Example usage\n",
    "if __name__ == \"__main__\":\n",
    "    # Load data\n",
    "    data_kegiatan = pd.read_csv(\"../SA.csv\")\n",
    "\n",
    "    # Build the model\n",
    "    recommendation_model = build_student_recommendation_model(data_kegiatan)\n",
    "    model_components = recommendation_model['model_components']\n",
    "    student_similarity_df = recommendation_model['student_similarity_df']\n",
    "\n",
    "    # Save the model\n",
    "    save_model(recommendation_model, \"student-activity-recommender.joblib\")\n",
    "\n",
    "    # Load the model\n",
    "    loaded_model = load_model(\"student-activity-recommender.joblib\")\n",
    "    loaded_model_components = loaded_model['model_components']\n",
    "    loaded_student_similarity_df = loaded_model['student_similarity_df']\n",
    "\n",
    "    # Example student ID\n",
    "    student_id = 2231152\n",
    "\n",
    "    # Recommend keywords for the student\n",
    "    try:\n",
    "        recommended_keywords = recommend_based_on_similar_students(\n",
    "            student_id,\n",
    "            loaded_student_similarity_df,\n",
    "            loaded_model_components['student_profiles']\n",
    "        )\n",
    "        print(f\"Recommendations for Student {student_id}:\")\n",
    "        print(recommended_keywords)\n",
    "\n",
    "        # Visualize the student's keyword profile\n",
    "        visualize_student_keywords(student_id, loaded_model_components['student_profiles'])\n",
    "\n",
    "    except KeyError as e:\n",
    "        print(e)\n"
   ],
   "outputs": [
    {
     "name": "stdout",
     "output_type": "stream",
     "text": [
      "Model saved to student-activity-recommender.joblib\n",
      "Model loaded from student-activity-recommender.joblib\n",
      "Recommendations for Student 2231152:\n",
      "developing         6.971281\n",
      "aws                5.708109\n",
      "work               5.684461\n",
      "mbkm               2.730497\n",
      "internetworking    2.650519\n",
      "dtype: float64\n"
     ]
    },
    {
     "data": {
      "text/plain": [
       "<Figure size 1200x600 with 1 Axes>"
      ],
      "image/png": "[encoded data removed]"
     },
     "metadata": {},
     "output_type": "display_data"
    }
   ],
   "execution_count": 45
  }
 ],
 "metadata": {
  "kernelspec": {
   "display_name": "venv",
   "language": "python",
   "name": "python3"
  },
  "language_info": {
   "codemirror_mode": {
    "name": "ipython",
    "version": 3
   },
   "file_extension": ".py",
   "mimetype": "text/x-python",
   "name": "python",
   "nbconvert_exporter": "python",
   "pygments_lexer": "ipython3",
   "version": "3.12.7"
  }
 },
 "nbformat": 4,
 "nbformat_minor": 2
}
