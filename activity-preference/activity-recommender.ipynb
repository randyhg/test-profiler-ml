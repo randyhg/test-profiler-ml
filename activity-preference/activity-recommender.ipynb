{
 "cells": [
  {
   "cell_type": "markdown",
   "metadata": {},
   "source": [
    "# Identifying Student Favorite Activities"
   ]
  },
  {
   "cell_type": "code",
   "metadata": {
    "ExecuteTime": {
     "end_time": "2024-12-13T13:44:36.137564Z",
     "start_time": "2024-12-13T13:44:35.661694Z"
    }
   },
   "source": [
    "# Import Libraries\n",
    "\n",
    "import pandas as pd\n",
    "import numpy as np\n",
    "import matplotlib.pyplot as plt\n",
    "import seaborn as sns\n",
    "from sklearn.cluster import KMeans\n",
    "from sklearn.preprocessing import StandardScaler, OneHotEncoder\n",
    "from sklearn.metrics import silhouette_score\n",
    "from sklearn.preprocessing import LabelEncoder\n",
    "from joblib import dump, load\n",
    "from sklearn.metrics.pairwise import cosine_similarity\n",
    "from sklearn.feature_extraction.text import TfidfVectorizer, ENGLISH_STOP_WORDS\n",
    "\n",
    "%matplotlib inline"
   ],
   "outputs": [],
   "execution_count": 1
  },
  {
   "cell_type": "markdown",
   "metadata": {},
   "source": [
    "## 1. Load Data"
   ]
  },
  {
   "cell_type": "code",
   "metadata": {
    "ExecuteTime": {
     "end_time": "2024-12-13T14:03:46.554171Z",
     "start_time": "2024-12-13T14:03:46.487051Z"
    }
   },
   "source": [
    "data_mahasiswa=pd.read_csv(\"../MHS.csv\")\n",
    "data_kegiatan=pd.read_csv(\"../SA.csv\")\n"
   ],
   "outputs": [],
   "execution_count": 16
  },
  {
   "metadata": {},
   "cell_type": "markdown",
   "source": "## 2. Data Preprocessing"
  },
  {
   "metadata": {
    "ExecuteTime": {
     "end_time": "2024-12-13T14:03:47.795468Z",
     "start_time": "2024-12-13T14:03:47.778163Z"
    }
   },
   "cell_type": "code",
   "source": [
    "\n",
    "def get_custom_stop_words():\n",
    "    return set([\n",
    "        # English stop words\n",
    "        'the', 'a', 'an', 'and', 'or', 'but', 'in', 'on', 'at', 'to', 'for', 'of', 'with', 'by',\n",
    "        # English words\n",
    "        'ready', 'seminar', 'webinar', 'uib', 'local', 'national', 'international',\n",
    "        'lokal', 'nasional', 'internasional', 'lgbt', 'series', 'club', 'meeting', 'conversation',\n",
    "        'get', 'self', 'learning', 'skills', 'out', 'find', 'your', 'beginners', 'beginner', 'learn',\n",
    "        'course', 'fundamentals', 'pengembangan', 'kepribadian', 'how', 'rules', 'about', 'collaboration',\n",
    "        # Indonesian stop words\n",
    "        'yang', 'di', 'ke', 'dari', 'dalam', 'pada', 'dengan', 'dan', 'atau',\n",
    "        # Bahasa Indonesia words\n",
    "        'ukm', 'merdeka', 'jam', 'belajar', 'sertifikasi', 'generasi', \n",
    "        # Conjunctions\n",
    "        'namun', 'tetapi', 'akan', 'serta', 'karena', 'sebab',\n",
    "        # Numbers and years (generic removal)\n",
    "        '2020', '2021', '2022', '2023', '2024',\n",
    "        '0', '1', '2', '3', '4', '5', '6', '7', '8', '9',\n",
    "        # Additional filtering\n",
    "    ])\n",
    "\n",
    "def fit_tfidf_model(activities, student_ids, stop_words=None):\n",
    "    \"\"\"\n",
    "    Fit TF-IDF model to activities and create student profiles\n",
    "    \n",
    "    Parameters:\n",
    "    - activities: list or Series of activity names\n",
    "    - student_ids: corresponding list or Series of student IDs\n",
    "    - stop_words: optional custom stop words\n",
    "    \n",
    "    Returns:\n",
    "    - Dictionary containing model components\n",
    "    \"\"\"\n",
    "    # Use custom stop words if provided, otherwise use default\n",
    "    if stop_words is None:\n",
    "        stop_words = get_custom_stop_words()\n",
    "    \n",
    "    # Create TF-IDF Vectorizer\n",
    "    tfidf = TfidfVectorizer(stop_words=list(stop_words))\n",
    "    \n",
    "    # Transform activities\n",
    "    tfidf_matrix = tfidf.fit_transform(activities)\n",
    "    \n",
    "    # Get feature names (keywords)\n",
    "    keywords = tfidf.get_feature_names_out()\n",
    "    \n",
    "    # Create DataFrame of activity keywords\n",
    "    activity_keywords = pd.DataFrame(\n",
    "        tfidf_matrix.toarray(), \n",
    "        columns=keywords, \n",
    "        index=student_ids\n",
    "    )\n",
    "    \n",
    "    # Aggregate keyword importance for each student\n",
    "    student_profiles = activity_keywords.groupby(activity_keywords.index).sum()\n",
    "    \n",
    "    return {\n",
    "        'tfidf': tfidf,\n",
    "        'tfidf_matrix': tfidf_matrix,\n",
    "        'keywords': keywords,\n",
    "        'student_profiles': student_profiles\n",
    "    }\n",
    "\n",
    "def recommend_keywords(student_id, student_profiles, top_n=5):\n",
    "    \"\"\"\n",
    "    Recommend top keywords for a given student\n",
    "    \n",
    "    Parameters:\n",
    "    - student_id: ID of the student\n",
    "    - student_profiles: DataFrame of student keyword profiles\n",
    "    - keywords: list of keywords\n",
    "    - top_n: number of top keywords to return\n",
    "    \n",
    "    Returns:\n",
    "    - Series of top keywords and their importance\n",
    "    \"\"\"\n",
    "    if student_id not in student_profiles.index:\n",
    "        raise KeyError(f\"Student ID {student_id} not found.\")\n",
    "    \n",
    "    # Sort keywords by importance for the student\n",
    "    student_keywords = student_profiles.loc[student_id].sort_values(ascending=False)\n",
    "    \n",
    "    # Return top N keywords\n",
    "    return student_keywords.head(top_n)\n",
    "\n",
    "def visualize_student_keywords(student_id, student_profiles, keywords, top_n=5):\n",
    "    \"\"\"\n",
    "    Create a bar plot of top keywords for a student\n",
    "    \n",
    "    Parameters:\n",
    "    - student_id: ID of the student\n",
    "    - student_profiles: DataFrame of student keyword profiles\n",
    "    - keywords: list of keywords\n",
    "    - top_n: number of top keywords to visualize\n",
    "    \"\"\"\n",
    "    # Get top keywords\n",
    "    # top_keywords = recommend_keywords(student_id, student_profiles, keywords, top_n)\n",
    "    top_keywords = recommend_keywords(student_id, student_profiles, top_n)\n",
    "    \n",
    "    # Create visualization\n",
    "    plt.figure(figsize=(12, 6))\n",
    "    top_keywords.plot(kind='bar')\n",
    "    plt.title(f'Top {top_n} Keywords for Student {student_id}')\n",
    "    plt.xlabel('Keywords')\n",
    "    plt.ylabel('TF-IDF Score')\n",
    "    plt.xticks(rotation=45, ha='right')\n",
    "    plt.tight_layout()\n",
    "    plt.show()\n",
    "\n",
    "def save_model(model_components, filepath='student_activity_recommender.joblib'):\n",
    "    \"\"\"\n",
    "    Save model components to a file\n",
    "    \n",
    "    Parameters:\n",
    "    - model_components: Dictionary of model components\n",
    "    - filepath: path to save the model\n",
    "    \"\"\"\n",
    "    dump(model_components, filepath)\n",
    "    print(f\"Model saved to {filepath}\")\n",
    "\n",
    "def load_model(filepath='student_activity_recommender.joblib'):\n",
    "    \"\"\"\n",
    "    Load previously saved model components\n",
    "    \n",
    "    Parameters:\n",
    "    - filepath: path to the saved model file\n",
    "    \n",
    "    Returns:\n",
    "    - Loaded model components\n",
    "    \"\"\"\n",
    "    model_components = load(filepath)\n",
    "    print(f\"Model loaded from {filepath}\")\n",
    "    return model_components\n",
    "\n",
    "# Example usage function for Jupyter Notebook\n",
    "def quick_start(data_kegiatan):\n",
    "    \"\"\"\n",
    "    Quick start function for Jupyter Notebook\n",
    "    \n",
    "    Parameters:\n",
    "    - data_kegiatan: DataFrame with 'nama_kegiatan' and 'npm' columns\n",
    "    \n",
    "    Returns:\n",
    "    - Dictionary of model components\n",
    "    \"\"\"\n",
    "    # Fit the model\n",
    "    model_components = fit_tfidf_model(\n",
    "        data_kegiatan['nama_kegiatan'], \n",
    "        data_kegiatan['npm']\n",
    "    )\n",
    "    \n",
    "    # Print basic information\n",
    "    print(\"Model Fitted Successfully!\")\n",
    "    print(f\"Total Number of Students: {len(model_components['student_profiles'])}\")\n",
    "    print(f\"Total Number of Unique Keywords: {len(model_components['keywords'])}\")\n",
    "    \n",
    "    # Example recommendations\n",
    "    sample_students = model_components['student_profiles'].index[:5]\n",
    "    print(\"\\nSample Student Recommendations:\")\n",
    "    for student_id in sample_students:\n",
    "        print(f\"\\nStudent {student_id}:\")\n",
    "        print(recommend_keywords(\n",
    "            student_id, \n",
    "            model_components['student_profiles'], \n",
    "            # model_components['keywords']\n",
    "        ))\n",
    "    \n",
    "    return model_components"
   ],
   "outputs": [],
   "execution_count": 17
  },
  {
   "metadata": {
    "ExecuteTime": {
     "end_time": "2024-12-13T14:04:41.585094Z",
     "start_time": "2024-12-13T14:04:40.170048Z"
    }
   },
   "cell_type": "code",
   "source": [
    "# Fit the model\n",
    "model_components = fit_tfidf_model(data_kegiatan['nama_kegiatan'], data_kegiatan['npm'])\n",
    "\n",
    "# Get student profiles and keywords\n",
    "student_profiles = model_components['student_profiles']\n",
    "keywords = model_components['keywords']\n",
    "\n",
    "# Recommend keywords for a specific student\n",
    "student_id = 2231149\n",
    "# recommended_keywords = recommend_keywords(student_id, student_profiles, keywords)\n",
    "recommended_keywords = recommend_keywords(student_id, student_profiles)\n",
    "\n",
    "# Visualize keywords\n",
    "visualize_student_keywords(student_id, student_profiles, keywords)\n",
    "\n",
    "# Save the model\n",
    "save_model(model_components)\n",
    "\n",
    "# Load the model in another session\n",
    "loaded_model_components = load_model()\n",
    "\n"
   ],
   "outputs": [
    {
     "data": {
      "text/plain": [
       "<Figure size 1200x600 with 1 Axes>"
      ],
      "image/png": "[encoded data removed]"
     },
     "metadata": {},
     "output_type": "display_data"
    },
    {
     "name": "stdout",
     "output_type": "stream",
     "text": [
      "Model saved to student_activity_recommender.joblib\n",
      "Model loaded from student_activity_recommender.joblib\n"
     ]
    }
   ],
   "execution_count": 23
  }
 ],
 "metadata": {
  "kernelspec": {
   "display_name": "venv",
   "language": "python",
   "name": "python3"
  },
  "language_info": {
   "codemirror_mode": {
    "name": "ipython",
    "version": 3
   },
   "file_extension": ".py",
   "mimetype": "text/x-python",
   "name": "python",
   "nbconvert_exporter": "python",
   "pygments_lexer": "ipython3",
   "version": "3.12.7"
  }
 },
 "nbformat": 4,
 "nbformat_minor": 2
}
