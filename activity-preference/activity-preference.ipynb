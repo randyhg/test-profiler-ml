{
 "cells": [
  {
   "cell_type": "markdown",
   "metadata": {},
   "source": [
    "# Identifying Student Favorite Activities"
   ]
  },
  {
   "cell_type": "code",
   "metadata": {
    "ExecuteTime": {
     "end_time": "2024-12-07T13:52:27.643204Z",
     "start_time": "2024-12-07T13:52:25.303231Z"
    }
   },
   "source": [
    "# Import Libraries\n",
    "\n",
    "import pandas as pd\n",
    "import numpy as np\n",
    "import matplotlib.pyplot as plt\n",
    "import seaborn as sns\n",
    "from sklearn.cluster import KMeans\n",
    "from sklearn.preprocessing import StandardScaler, OneHotEncoder\n",
    "from sklearn.metrics import silhouette_score\n",
    "from sklearn.preprocessing import LabelEncoder\n",
    "from joblib import dump, load\n",
    "\n",
    "%matplotlib inline"
   ],
   "outputs": [],
   "execution_count": 1
  },
  {
   "cell_type": "markdown",
   "metadata": {},
   "source": [
    "## 1. Load Data"
   ]
  },
  {
   "cell_type": "code",
   "metadata": {
    "ExecuteTime": {
     "end_time": "2024-12-07T13:56:34.337758Z",
     "start_time": "2024-12-07T13:56:34.279602Z"
    }
   },
   "source": [
    "data_mahasiswa=pd.read_csv(\"../MHS.csv\")\n",
    "data_kegiatan=pd.read_csv(\"../SA.csv\")\n"
   ],
   "outputs": [],
   "execution_count": 2
  },
  {
   "cell_type": "code",
   "execution_count": 3,
   "metadata": {},
   "outputs": [
    {
     "data": {
      "text/html": [
       "<div>\n",
       "<style scoped>\n",
       "    .dataframe tbody tr th:only-of-type {\n",
       "        vertical-align: middle;\n",
       "    }\n",
       "\n",
       "    .dataframe tbody tr th {\n",
       "        vertical-align: top;\n",
       "    }\n",
       "\n",
       "    .dataframe thead th {\n",
       "        text-align: right;\n",
       "    }\n",
       "</style>\n",
       "<table border=\"1\" class=\"dataframe\">\n",
       "  <thead>\n",
       "    <tr style=\"text-align: right;\">\n",
       "      <th></th>\n",
       "      <th>npm_mahasiswa</th>\n",
       "      <th>nama_mahasiswa</th>\n",
       "      <th>prodi_mahasiswa</th>\n",
       "      <th>angkatan_mahasiswa</th>\n",
       "      <th>ipk_mahasiswa</th>\n",
       "      <th>status_mahasiswa</th>\n",
       "      <th>pembimbing_tugas_akhir</th>\n",
       "    </tr>\n",
       "  </thead>\n",
       "  <tbody>\n",
       "    <tr>\n",
       "      <th>0</th>\n",
       "      <td>1931173</td>\n",
       "      <td>Celine Te</td>\n",
       "      <td>Sistem Informasi</td>\n",
       "      <td>2019</td>\n",
       "      <td>3.87</td>\n",
       "      <td>Lulus</td>\n",
       "      <td>5120028.0</td>\n",
       "    </tr>\n",
       "    <tr>\n",
       "      <th>1</th>\n",
       "      <td>1931001</td>\n",
       "      <td>Rido Renando</td>\n",
       "      <td>Sistem Informasi</td>\n",
       "      <td>2019</td>\n",
       "      <td>3.72</td>\n",
       "      <td>Lulus</td>\n",
       "      <td>1170002.0</td>\n",
       "    </tr>\n",
       "    <tr>\n",
       "      <th>2</th>\n",
       "      <td>1931009</td>\n",
       "      <td>Richie Marlon</td>\n",
       "      <td>Sistem Informasi</td>\n",
       "      <td>2019</td>\n",
       "      <td>3.90</td>\n",
       "      <td>Lulus</td>\n",
       "      <td>5120028.0</td>\n",
       "    </tr>\n",
       "    <tr>\n",
       "      <th>3</th>\n",
       "      <td>1931083</td>\n",
       "      <td>Elvin Whang</td>\n",
       "      <td>Sistem Informasi</td>\n",
       "      <td>2019</td>\n",
       "      <td>3.68</td>\n",
       "      <td>Lulus</td>\n",
       "      <td>6200076.0</td>\n",
       "    </tr>\n",
       "    <tr>\n",
       "      <th>4</th>\n",
       "      <td>2031001</td>\n",
       "      <td>Robin Sunjaya</td>\n",
       "      <td>Sistem Informasi</td>\n",
       "      <td>2020</td>\n",
       "      <td>3.88</td>\n",
       "      <td>Aktif</td>\n",
       "      <td>9180074.0</td>\n",
       "    </tr>\n",
       "  </tbody>\n",
       "</table>\n",
       "</div>"
      ],
      "text/plain": [
       "   npm_mahasiswa nama_mahasiswa   prodi_mahasiswa  angkatan_mahasiswa  \\\n",
       "0        1931173      Celine Te  Sistem Informasi                2019   \n",
       "1        1931001   Rido Renando  Sistem Informasi                2019   \n",
       "2        1931009  Richie Marlon  Sistem Informasi                2019   \n",
       "3        1931083    Elvin Whang  Sistem Informasi                2019   \n",
       "4        2031001  Robin Sunjaya  Sistem Informasi                2020   \n",
       "\n",
       "   ipk_mahasiswa status_mahasiswa  pembimbing_tugas_akhir  \n",
       "0           3.87            Lulus               5120028.0  \n",
       "1           3.72            Lulus               1170002.0  \n",
       "2           3.90            Lulus               5120028.0  \n",
       "3           3.68            Lulus               6200076.0  \n",
       "4           3.88            Aktif               9180074.0  "
      ]
     },
     "execution_count": 3,
     "metadata": {},
     "output_type": "execute_result"
    }
   ],
   "source": [
    "data_mahasiswa.head()"
   ]
  },
  {
   "cell_type": "code",
   "execution_count": 4,
   "metadata": {},
   "outputs": [
    {
     "data": {
      "text/html": [
       "<div>\n",
       "<style scoped>\n",
       "    .dataframe tbody tr th:only-of-type {\n",
       "        vertical-align: middle;\n",
       "    }\n",
       "\n",
       "    .dataframe tbody tr th {\n",
       "        vertical-align: top;\n",
       "    }\n",
       "\n",
       "    .dataframe thead th {\n",
       "        text-align: right;\n",
       "    }\n",
       "</style>\n",
       "<table border=\"1\" class=\"dataframe\">\n",
       "  <thead>\n",
       "    <tr style=\"text-align: right;\">\n",
       "      <th></th>\n",
       "      <th>npm_mahasiswa</th>\n",
       "      <th>bank_id</th>\n",
       "      <th>nama_kegiatan</th>\n",
       "      <th>tingkat_kegiatan</th>\n",
       "      <th>tanggal_kegiatan</th>\n",
       "    </tr>\n",
       "  </thead>\n",
       "  <tbody>\n",
       "    <tr>\n",
       "      <th>0</th>\n",
       "      <td>2031038</td>\n",
       "      <td>10945</td>\n",
       "      <td>Webinar Series #3 : \"Profesi Hukum Itu, Asyik!\"</td>\n",
       "      <td>lokal</td>\n",
       "      <td>11/07/2020</td>\n",
       "    </tr>\n",
       "    <tr>\n",
       "      <th>1</th>\n",
       "      <td>1931095</td>\n",
       "      <td>2154</td>\n",
       "      <td>Aesthetic Introduction to Literature Feast (Ae...</td>\n",
       "      <td>lokal</td>\n",
       "      <td>11/18/2019</td>\n",
       "    </tr>\n",
       "    <tr>\n",
       "      <th>2</th>\n",
       "      <td>1931095</td>\n",
       "      <td>5036</td>\n",
       "      <td>Mentoring and Tutoring \"Pyhton 101 - Part II\"</td>\n",
       "      <td>lokal</td>\n",
       "      <td>09/21/2019</td>\n",
       "    </tr>\n",
       "    <tr>\n",
       "      <th>3</th>\n",
       "      <td>2031140</td>\n",
       "      <td>3533</td>\n",
       "      <td>Ibadah Mahasiswa Baru (IMABA) Mahasiswa Kriste...</td>\n",
       "      <td>lokal</td>\n",
       "      <td>09/05/2020</td>\n",
       "    </tr>\n",
       "    <tr>\n",
       "      <th>4</th>\n",
       "      <td>2031140</td>\n",
       "      <td>1972</td>\n",
       "      <td>Virtual Gathering Crown Of Glory 2020: Be Care...</td>\n",
       "      <td>lokal</td>\n",
       "      <td>10/17/2020</td>\n",
       "    </tr>\n",
       "  </tbody>\n",
       "</table>\n",
       "</div>"
      ],
      "text/plain": [
       "   npm_mahasiswa  bank_id                                      nama_kegiatan  \\\n",
       "0        2031038    10945    Webinar Series #3 : \"Profesi Hukum Itu, Asyik!\"   \n",
       "1        1931095     2154  Aesthetic Introduction to Literature Feast (Ae...   \n",
       "2        1931095     5036      Mentoring and Tutoring \"Pyhton 101 - Part II\"   \n",
       "3        2031140     3533  Ibadah Mahasiswa Baru (IMABA) Mahasiswa Kriste...   \n",
       "4        2031140     1972  Virtual Gathering Crown Of Glory 2020: Be Care...   \n",
       "\n",
       "  tingkat_kegiatan tanggal_kegiatan  \n",
       "0            lokal       11/07/2020  \n",
       "1            lokal       11/18/2019  \n",
       "2            lokal       09/21/2019  \n",
       "3            lokal       09/05/2020  \n",
       "4            lokal       10/17/2020  "
      ]
     },
     "execution_count": 4,
     "metadata": {},
     "output_type": "execute_result"
    }
   ],
   "source": [
    "data_kegiatan.head()"
   ]
  },
  {
   "cell_type": "markdown",
   "metadata": {},
   "source": [
    "## 2. Merge and Clean Data"
   ]
  },
  {
   "cell_type": "code",
   "metadata": {
    "ExecuteTime": {
     "end_time": "2024-12-07T13:56:37.074674Z",
     "start_time": "2024-12-07T13:56:37.036073Z"
    }
   },
   "source": [
    "merged_data = pd.merge(data_mahasiswa, data_kegiatan, on=\"npm\")\n",
    "\n",
    "merged_data.dropna(inplace=True)\n",
    "\n",
    "data = merged_data[['npm', 'nama_mahasiswa', 'ipk_mahasiswa', 'nama_kegiatan', 'tingkat_kegiatan']]\n",
    "\n",
    "data.head()"
   ],
   "outputs": [
    {
     "data": {
      "text/plain": [
       "       npm nama_mahasiswa  ipk_mahasiswa  \\\n",
       "0  1931173      Celine Te           3.87   \n",
       "1  1931173      Celine Te           3.87   \n",
       "2  1931173      Celine Te           3.87   \n",
       "3  1931173      Celine Te           3.87   \n",
       "4  1931173      Celine Te           3.87   \n",
       "\n",
       "                                       nama_kegiatan tingkat_kegiatan  \n",
       "0  Sertifikasi Agile Scrum Fundamentals (ASF) (Qu...    international  \n",
       "1  The 2nd Conference on Community Engagement Pro...    international  \n",
       "2   Seminar Nasional \"Youth`s Impact In Digital Era\"         national  \n",
       "3  Seminar Importance of IT Certifications in Ind...            lokal  \n",
       "4  Listening and Reading Official Institutional S...    international  "
      ],
      "text/html": [
       "<div>\n",
       "<style scoped>\n",
       "    .dataframe tbody tr th:only-of-type {\n",
       "        vertical-align: middle;\n",
       "    }\n",
       "\n",
       "    .dataframe tbody tr th {\n",
       "        vertical-align: top;\n",
       "    }\n",
       "\n",
       "    .dataframe thead th {\n",
       "        text-align: right;\n",
       "    }\n",
       "</style>\n",
       "<table border=\"1\" class=\"dataframe\">\n",
       "  <thead>\n",
       "    <tr style=\"text-align: right;\">\n",
       "      <th></th>\n",
       "      <th>npm</th>\n",
       "      <th>nama_mahasiswa</th>\n",
       "      <th>ipk_mahasiswa</th>\n",
       "      <th>nama_kegiatan</th>\n",
       "      <th>tingkat_kegiatan</th>\n",
       "    </tr>\n",
       "  </thead>\n",
       "  <tbody>\n",
       "    <tr>\n",
       "      <th>0</th>\n",
       "      <td>1931173</td>\n",
       "      <td>Celine Te</td>\n",
       "      <td>3.87</td>\n",
       "      <td>Sertifikasi Agile Scrum Fundamentals (ASF) (Qu...</td>\n",
       "      <td>international</td>\n",
       "    </tr>\n",
       "    <tr>\n",
       "      <th>1</th>\n",
       "      <td>1931173</td>\n",
       "      <td>Celine Te</td>\n",
       "      <td>3.87</td>\n",
       "      <td>The 2nd Conference on Community Engagement Pro...</td>\n",
       "      <td>international</td>\n",
       "    </tr>\n",
       "    <tr>\n",
       "      <th>2</th>\n",
       "      <td>1931173</td>\n",
       "      <td>Celine Te</td>\n",
       "      <td>3.87</td>\n",
       "      <td>Seminar Nasional \"Youth`s Impact In Digital Era\"</td>\n",
       "      <td>national</td>\n",
       "    </tr>\n",
       "    <tr>\n",
       "      <th>3</th>\n",
       "      <td>1931173</td>\n",
       "      <td>Celine Te</td>\n",
       "      <td>3.87</td>\n",
       "      <td>Seminar Importance of IT Certifications in Ind...</td>\n",
       "      <td>lokal</td>\n",
       "    </tr>\n",
       "    <tr>\n",
       "      <th>4</th>\n",
       "      <td>1931173</td>\n",
       "      <td>Celine Te</td>\n",
       "      <td>3.87</td>\n",
       "      <td>Listening and Reading Official Institutional S...</td>\n",
       "      <td>international</td>\n",
       "    </tr>\n",
       "  </tbody>\n",
       "</table>\n",
       "</div>"
      ]
     },
     "execution_count": 3,
     "metadata": {},
     "output_type": "execute_result"
    }
   ],
   "execution_count": 3
  },
  {
   "cell_type": "markdown",
   "metadata": {},
   "source": [
    "## 3. Features"
   ]
  },
  {
   "cell_type": "code",
   "metadata": {
    "ExecuteTime": {
     "end_time": "2024-12-07T13:56:39.209524Z",
     "start_time": "2024-12-07T13:56:39.184481Z"
    }
   },
   "source": [
    "# One-hot encode tingkat_kegiatan\n",
    "data = pd.get_dummies(data, columns=['tingkat_kegiatan'])\n",
    "\n",
    "#Choose features\n",
    "features = data[['ipk_mahasiswa'] + list(data.columns[data.columns.str.contains('tingkat_kegiatan_')])]\n",
    "features.head()\n",
    "\n",
    "data.head()\n",
    "\n"
   ],
   "outputs": [
    {
     "data": {
      "text/plain": [
       "       npm nama_mahasiswa  ipk_mahasiswa  \\\n",
       "0  1931173      Celine Te           3.87   \n",
       "1  1931173      Celine Te           3.87   \n",
       "2  1931173      Celine Te           3.87   \n",
       "3  1931173      Celine Te           3.87   \n",
       "4  1931173      Celine Te           3.87   \n",
       "\n",
       "                                       nama_kegiatan  \\\n",
       "0  Sertifikasi Agile Scrum Fundamentals (ASF) (Qu...   \n",
       "1  The 2nd Conference on Community Engagement Pro...   \n",
       "2   Seminar Nasional \"Youth`s Impact In Digital Era\"   \n",
       "3  Seminar Importance of IT Certifications in Ind...   \n",
       "4  Listening and Reading Official Institutional S...   \n",
       "\n",
       "   tingkat_kegiatan_international  tingkat_kegiatan_lokal  \\\n",
       "0                            True                   False   \n",
       "1                            True                   False   \n",
       "2                           False                   False   \n",
       "3                           False                    True   \n",
       "4                            True                   False   \n",
       "\n",
       "   tingkat_kegiatan_national  tingkat_kegiatan_provinsi  \n",
       "0                      False                      False  \n",
       "1                      False                      False  \n",
       "2                       True                      False  \n",
       "3                      False                      False  \n",
       "4                      False                      False  "
      ],
      "text/html": [
       "<div>\n",
       "<style scoped>\n",
       "    .dataframe tbody tr th:only-of-type {\n",
       "        vertical-align: middle;\n",
       "    }\n",
       "\n",
       "    .dataframe tbody tr th {\n",
       "        vertical-align: top;\n",
       "    }\n",
       "\n",
       "    .dataframe thead th {\n",
       "        text-align: right;\n",
       "    }\n",
       "</style>\n",
       "<table border=\"1\" class=\"dataframe\">\n",
       "  <thead>\n",
       "    <tr style=\"text-align: right;\">\n",
       "      <th></th>\n",
       "      <th>npm</th>\n",
       "      <th>nama_mahasiswa</th>\n",
       "      <th>ipk_mahasiswa</th>\n",
       "      <th>nama_kegiatan</th>\n",
       "      <th>tingkat_kegiatan_international</th>\n",
       "      <th>tingkat_kegiatan_lokal</th>\n",
       "      <th>tingkat_kegiatan_national</th>\n",
       "      <th>tingkat_kegiatan_provinsi</th>\n",
       "    </tr>\n",
       "  </thead>\n",
       "  <tbody>\n",
       "    <tr>\n",
       "      <th>0</th>\n",
       "      <td>1931173</td>\n",
       "      <td>Celine Te</td>\n",
       "      <td>3.87</td>\n",
       "      <td>Sertifikasi Agile Scrum Fundamentals (ASF) (Qu...</td>\n",
       "      <td>True</td>\n",
       "      <td>False</td>\n",
       "      <td>False</td>\n",
       "      <td>False</td>\n",
       "    </tr>\n",
       "    <tr>\n",
       "      <th>1</th>\n",
       "      <td>1931173</td>\n",
       "      <td>Celine Te</td>\n",
       "      <td>3.87</td>\n",
       "      <td>The 2nd Conference on Community Engagement Pro...</td>\n",
       "      <td>True</td>\n",
       "      <td>False</td>\n",
       "      <td>False</td>\n",
       "      <td>False</td>\n",
       "    </tr>\n",
       "    <tr>\n",
       "      <th>2</th>\n",
       "      <td>1931173</td>\n",
       "      <td>Celine Te</td>\n",
       "      <td>3.87</td>\n",
       "      <td>Seminar Nasional \"Youth`s Impact In Digital Era\"</td>\n",
       "      <td>False</td>\n",
       "      <td>False</td>\n",
       "      <td>True</td>\n",
       "      <td>False</td>\n",
       "    </tr>\n",
       "    <tr>\n",
       "      <th>3</th>\n",
       "      <td>1931173</td>\n",
       "      <td>Celine Te</td>\n",
       "      <td>3.87</td>\n",
       "      <td>Seminar Importance of IT Certifications in Ind...</td>\n",
       "      <td>False</td>\n",
       "      <td>True</td>\n",
       "      <td>False</td>\n",
       "      <td>False</td>\n",
       "    </tr>\n",
       "    <tr>\n",
       "      <th>4</th>\n",
       "      <td>1931173</td>\n",
       "      <td>Celine Te</td>\n",
       "      <td>3.87</td>\n",
       "      <td>Listening and Reading Official Institutional S...</td>\n",
       "      <td>True</td>\n",
       "      <td>False</td>\n",
       "      <td>False</td>\n",
       "      <td>False</td>\n",
       "    </tr>\n",
       "  </tbody>\n",
       "</table>\n",
       "</div>"
      ]
     },
     "execution_count": 4,
     "metadata": {},
     "output_type": "execute_result"
    }
   ],
   "execution_count": 4
  },
  {
   "cell_type": "markdown",
   "metadata": {},
   "source": [
    "## 4. Data Normalization"
   ]
  },
  {
   "cell_type": "code",
   "metadata": {
    "ExecuteTime": {
     "end_time": "2024-12-07T13:56:42.099763Z",
     "start_time": "2024-12-07T13:56:42.073229Z"
    }
   },
   "source": [
    "scaler = StandardScaler()\n",
    "\n",
    "features_scaled = scaler.fit_transform(features)\n",
    "dump(scaler, 'scaler.joblib')  # Save the scaler\n",
    "pd.DataFrame(features_scaled, columns=features.columns)"
   ],
   "outputs": [
    {
     "data": {
      "text/plain": [
       "       ipk_mahasiswa  tingkat_kegiatan_international  tingkat_kegiatan_lokal  \\\n",
       "0           0.263904                        1.899947               -1.146359   \n",
       "1           0.263904                        1.899947               -1.146359   \n",
       "2           0.263904                       -0.526330               -1.146359   \n",
       "3           0.263904                       -0.526330                0.872327   \n",
       "4           0.263904                        1.899947               -1.146359   \n",
       "...              ...                             ...                     ...   \n",
       "12695      -0.775063                        1.899947               -1.146359   \n",
       "12696      -0.775063                        1.899947               -1.146359   \n",
       "12697      -0.775063                       -0.526330                0.872327   \n",
       "12698      -0.775063                        1.899947               -1.146359   \n",
       "12699      -0.775063                        1.899947               -1.146359   \n",
       "\n",
       "       tingkat_kegiatan_national  tingkat_kegiatan_provinsi  \n",
       "0                      -0.516681                  -0.067145  \n",
       "1                      -0.516681                  -0.067145  \n",
       "2                       1.935430                  -0.067145  \n",
       "3                      -0.516681                  -0.067145  \n",
       "4                      -0.516681                  -0.067145  \n",
       "...                          ...                        ...  \n",
       "12695                  -0.516681                  -0.067145  \n",
       "12696                  -0.516681                  -0.067145  \n",
       "12697                  -0.516681                  -0.067145  \n",
       "12698                  -0.516681                  -0.067145  \n",
       "12699                  -0.516681                  -0.067145  \n",
       "\n",
       "[12700 rows x 5 columns]"
      ],
      "text/html": [
       "<div>\n",
       "<style scoped>\n",
       "    .dataframe tbody tr th:only-of-type {\n",
       "        vertical-align: middle;\n",
       "    }\n",
       "\n",
       "    .dataframe tbody tr th {\n",
       "        vertical-align: top;\n",
       "    }\n",
       "\n",
       "    .dataframe thead th {\n",
       "        text-align: right;\n",
       "    }\n",
       "</style>\n",
       "<table border=\"1\" class=\"dataframe\">\n",
       "  <thead>\n",
       "    <tr style=\"text-align: right;\">\n",
       "      <th></th>\n",
       "      <th>ipk_mahasiswa</th>\n",
       "      <th>tingkat_kegiatan_international</th>\n",
       "      <th>tingkat_kegiatan_lokal</th>\n",
       "      <th>tingkat_kegiatan_national</th>\n",
       "      <th>tingkat_kegiatan_provinsi</th>\n",
       "    </tr>\n",
       "  </thead>\n",
       "  <tbody>\n",
       "    <tr>\n",
       "      <th>0</th>\n",
       "      <td>0.263904</td>\n",
       "      <td>1.899947</td>\n",
       "      <td>-1.146359</td>\n",
       "      <td>-0.516681</td>\n",
       "      <td>-0.067145</td>\n",
       "    </tr>\n",
       "    <tr>\n",
       "      <th>1</th>\n",
       "      <td>0.263904</td>\n",
       "      <td>1.899947</td>\n",
       "      <td>-1.146359</td>\n",
       "      <td>-0.516681</td>\n",
       "      <td>-0.067145</td>\n",
       "    </tr>\n",
       "    <tr>\n",
       "      <th>2</th>\n",
       "      <td>0.263904</td>\n",
       "      <td>-0.526330</td>\n",
       "      <td>-1.146359</td>\n",
       "      <td>1.935430</td>\n",
       "      <td>-0.067145</td>\n",
       "    </tr>\n",
       "    <tr>\n",
       "      <th>3</th>\n",
       "      <td>0.263904</td>\n",
       "      <td>-0.526330</td>\n",
       "      <td>0.872327</td>\n",
       "      <td>-0.516681</td>\n",
       "      <td>-0.067145</td>\n",
       "    </tr>\n",
       "    <tr>\n",
       "      <th>4</th>\n",
       "      <td>0.263904</td>\n",
       "      <td>1.899947</td>\n",
       "      <td>-1.146359</td>\n",
       "      <td>-0.516681</td>\n",
       "      <td>-0.067145</td>\n",
       "    </tr>\n",
       "    <tr>\n",
       "      <th>...</th>\n",
       "      <td>...</td>\n",
       "      <td>...</td>\n",
       "      <td>...</td>\n",
       "      <td>...</td>\n",
       "      <td>...</td>\n",
       "    </tr>\n",
       "    <tr>\n",
       "      <th>12695</th>\n",
       "      <td>-0.775063</td>\n",
       "      <td>1.899947</td>\n",
       "      <td>-1.146359</td>\n",
       "      <td>-0.516681</td>\n",
       "      <td>-0.067145</td>\n",
       "    </tr>\n",
       "    <tr>\n",
       "      <th>12696</th>\n",
       "      <td>-0.775063</td>\n",
       "      <td>1.899947</td>\n",
       "      <td>-1.146359</td>\n",
       "      <td>-0.516681</td>\n",
       "      <td>-0.067145</td>\n",
       "    </tr>\n",
       "    <tr>\n",
       "      <th>12697</th>\n",
       "      <td>-0.775063</td>\n",
       "      <td>-0.526330</td>\n",
       "      <td>0.872327</td>\n",
       "      <td>-0.516681</td>\n",
       "      <td>-0.067145</td>\n",
       "    </tr>\n",
       "    <tr>\n",
       "      <th>12698</th>\n",
       "      <td>-0.775063</td>\n",
       "      <td>1.899947</td>\n",
       "      <td>-1.146359</td>\n",
       "      <td>-0.516681</td>\n",
       "      <td>-0.067145</td>\n",
       "    </tr>\n",
       "    <tr>\n",
       "      <th>12699</th>\n",
       "      <td>-0.775063</td>\n",
       "      <td>1.899947</td>\n",
       "      <td>-1.146359</td>\n",
       "      <td>-0.516681</td>\n",
       "      <td>-0.067145</td>\n",
       "    </tr>\n",
       "  </tbody>\n",
       "</table>\n",
       "<p>12700 rows × 5 columns</p>\n",
       "</div>"
      ]
     },
     "execution_count": 5,
     "metadata": {},
     "output_type": "execute_result"
    }
   ],
   "execution_count": 5
  },
  {
   "cell_type": "markdown",
   "metadata": {},
   "source": [
    "## 5. Elbow Method"
   ]
  },
  {
   "cell_type": "code",
   "metadata": {
    "ExecuteTime": {
     "end_time": "2024-12-07T13:56:45.443595Z",
     "start_time": "2024-12-07T13:56:44.270960Z"
    }
   },
   "source": [
    "inertia = []\n",
    "for k in range(1, 11):\n",
    "    kmeans = KMeans(n_clusters=k, init='k-means++', n_init=10, random_state=42)\n",
    "    kmeans.fit(features_scaled)\n",
    "    inertia.append(kmeans.inertia_)\n",
    "    print(f'Number of Clusters: {k}, Inertia: {kmeans.inertia_}')"
   ],
   "outputs": [
    {
     "name": "stdout",
     "output_type": "stream",
     "text": [
      "Number of Clusters: 1, Inertia: 63500.0000000006\n",
      "Number of Clusters: 2, Inertia: 41516.91563665157\n",
      "Number of Clusters: 3, Inertia: 25259.68191597929\n",
      "Number of Clusters: 4, Inertia: 12429.196324403962\n",
      "Number of Clusters: 5, Inertia: 8445.597098173945\n",
      "Number of Clusters: 6, Inertia: 6193.101567481597\n",
      "Number of Clusters: 7, Inertia: 4441.0745857916245\n",
      "Number of Clusters: 8, Inertia: 3350.6287840408318\n",
      "Number of Clusters: 9, Inertia: 2826.0372576984237\n",
      "Number of Clusters: 10, Inertia: 2385.023440791434\n"
     ]
    }
   ],
   "execution_count": 6
  },
  {
   "cell_type": "markdown",
   "metadata": {},
   "source": [
    "## 6. Visualize Elbow Method"
   ]
  },
  {
   "cell_type": "code",
   "metadata": {
    "ExecuteTime": {
     "end_time": "2024-12-07T13:56:47.409488Z",
     "start_time": "2024-12-07T13:56:47.175567Z"
    }
   },
   "source": [
    "plt.figure(figsize=(8, 5))\n",
    "plt.plot(range(1, 11), inertia, marker='o')\n",
    "plt.xlabel('Number of Clusters')\n",
    "plt.ylabel('Inertia')\n",
    "plt.title('Elbow Method for Optimal K')\n",
    "plt.grid()\n",
    "plt.show()"
   ],
   "outputs": [
    {
     "data": {
      "text/plain": [
       "<Figure size 800x500 with 1 Axes>"
      ],
      "image/png": "[encoded data removed]"
     },
     "metadata": {},
     "output_type": "display_data"
    }
   ],
   "execution_count": 7
  },
  {
   "cell_type": "code",
   "execution_count": 10,
   "metadata": {},
   "outputs": [],
   "source": [
    "#The Elbow Point is around 4-5 Cluster"
   ]
  },
  {
   "cell_type": "markdown",
   "metadata": {},
   "source": [
    "## 7. Silhouette Score"
   ]
  },
  {
   "cell_type": "code",
   "metadata": {
    "ExecuteTime": {
     "end_time": "2024-12-07T13:57:29.111918Z",
     "start_time": "2024-12-07T13:56:50.110400Z"
    }
   },
   "source": [
    "silhouette_scores = []\n",
    "# Define a range of clusters\n",
    "k_values = range(2, 11)  # Since silhouette score is not defined for k=1\n",
    "\n",
    "# Calculate silhouette scores\n",
    "silhouette_scores = []\n",
    "for k in k_values:\n",
    "    kmeans = KMeans(n_clusters=k, init='k-means++', n_init=10, random_state=42)\n",
    "    labels = kmeans.fit_predict(features_scaled)\n",
    "    score = silhouette_score(features_scaled, labels)\n",
    "    silhouette_scores.append(score)\n",
    "    print(f'Number of Clusters: {k}, Silhouette Score: {score}')\n"
   ],
   "outputs": [
    {
     "name": "stdout",
     "output_type": "stream",
     "text": [
      "Number of Clusters: 2, Silhouette Score: 0.5262933328935396\n",
      "Number of Clusters: 3, Silhouette Score: 0.6849269405395211\n",
      "Number of Clusters: 4, Silhouette Score: 0.7055640249087518\n",
      "Number of Clusters: 5, Silhouette Score: 0.6442258187631192\n",
      "Number of Clusters: 6, Silhouette Score: 0.6397274949120204\n",
      "Number of Clusters: 7, Silhouette Score: 0.6336780848304492\n",
      "Number of Clusters: 8, Silhouette Score: 0.6074371456800287\n",
      "Number of Clusters: 9, Silhouette Score: 0.5930302970002789\n",
      "Number of Clusters: 10, Silhouette Score: 0.5705763597836132\n"
     ]
    }
   ],
   "execution_count": 8
  },
  {
   "cell_type": "markdown",
   "metadata": {},
   "source": [
    "## 8. Visualize Silhouette Score"
   ]
  },
  {
   "cell_type": "code",
   "metadata": {
    "ExecuteTime": {
     "end_time": "2024-12-07T13:57:47.130725Z",
     "start_time": "2024-12-07T13:57:46.789332Z"
    }
   },
   "source": [
    "plt.figure(figsize=(8, 5))\n",
    "plt.plot(range(2, 11), silhouette_scores, marker='o')\n",
    "plt.xlabel('Number of Clusters')\n",
    "plt.ylabel('Silhouette Score')\n",
    "plt.title('Silhouette Score for Optimal K')\n",
    "plt.grid()\n",
    "plt.show()"
   ],
   "outputs": [
    {
     "data": {
      "text/plain": [
       "<Figure size 800x500 with 1 Axes>"
      ],
      "image/png": "[encoded data removed]"
     },
     "metadata": {},
     "output_type": "display_data"
    }
   ],
   "execution_count": 9
  },
  {
   "cell_type": "markdown",
   "metadata": {},
   "source": [
    "## 9. Determine best cluster"
   ]
  },
  {
   "cell_type": "code",
   "metadata": {
    "ExecuteTime": {
     "end_time": "2024-12-07T13:57:49.948709Z",
     "start_time": "2024-12-07T13:57:49.943225Z"
    }
   },
   "source": [
    "#Determine best cluster\n",
    "best_k = k_values[silhouette_scores.index(max(silhouette_scores))]\n",
    "print(f'Silhouette Score Best Cluster: {best_k}')"
   ],
   "outputs": [
    {
     "name": "stdout",
     "output_type": "stream",
     "text": [
      "Silhouette Score Best Cluster: 4\n"
     ]
    }
   ],
   "execution_count": 10
  },
  {
   "cell_type": "markdown",
   "metadata": {},
   "source": [
    "## 10. K-Means Model Training"
   ]
  },
  {
   "cell_type": "code",
   "metadata": {
    "ExecuteTime": {
     "end_time": "2024-12-07T13:57:52.087238Z",
     "start_time": "2024-12-07T13:57:51.988822Z"
    }
   },
   "source": [
    "kmeans_trained = KMeans(n_clusters=best_k, init='k-means++', n_init=10, random_state=42)  \n",
    "kmeans_trained.fit(features_scaled)"
   ],
   "outputs": [
    {
     "data": {
      "text/plain": [
       "KMeans(n_clusters=4, n_init=10, random_state=42)"
      ],
      "text/html": [
       "<style>#sk-container-id-1 {\n",
       "  /* Definition of color scheme common for light and dark mode */\n",
       "  --sklearn-color-text: black;\n",
       "  --sklearn-color-line: gray;\n",
       "  /* Definition of color scheme for unfitted estimators */\n",
       "  --sklearn-color-unfitted-level-0: #fff5e6;\n",
       "  --sklearn-color-unfitted-level-1: #f6e4d2;\n",
       "  --sklearn-color-unfitted-level-2: #ffe0b3;\n",
       "  --sklearn-color-unfitted-level-3: chocolate;\n",
       "  /* Definition of color scheme for fitted estimators */\n",
       "  --sklearn-color-fitted-level-0: #f0f8ff;\n",
       "  --sklearn-color-fitted-level-1: #d4ebff;\n",
       "  --sklearn-color-fitted-level-2: #b3dbfd;\n",
       "  --sklearn-color-fitted-level-3: cornflowerblue;\n",
       "\n",
       "  /* Specific color for light theme */\n",
       "  --sklearn-color-text-on-default-background: var(--sg-text-color, var(--theme-code-foreground, var(--jp-content-font-color1, black)));\n",
       "  --sklearn-color-background: var(--sg-background-color, var(--theme-background, var(--jp-layout-color0, white)));\n",
       "  --sklearn-color-border-box: var(--sg-text-color, var(--theme-code-foreground, var(--jp-content-font-color1, black)));\n",
       "  --sklearn-color-icon: #696969;\n",
       "\n",
       "  @media (prefers-color-scheme: dark) {\n",
       "    /* Redefinition of color scheme for dark theme */\n",
       "    --sklearn-color-text-on-default-background: var(--sg-text-color, var(--theme-code-foreground, var(--jp-content-font-color1, white)));\n",
       "    --sklearn-color-background: var(--sg-background-color, var(--theme-background, var(--jp-layout-color0, #111)));\n",
       "    --sklearn-color-border-box: var(--sg-text-color, var(--theme-code-foreground, var(--jp-content-font-color1, white)));\n",
       "    --sklearn-color-icon: #878787;\n",
       "  }\n",
       "}\n",
       "\n",
       "#sk-container-id-1 {\n",
       "  color: var(--sklearn-color-text);\n",
       "}\n",
       "\n",
       "#sk-container-id-1 pre {\n",
       "  padding: 0;\n",
       "}\n",
       "\n",
       "#sk-container-id-1 input.sk-hidden--visually {\n",
       "  border: 0;\n",
       "  clip: rect(1px 1px 1px 1px);\n",
       "  clip: rect(1px, 1px, 1px, 1px);\n",
       "  height: 1px;\n",
       "  margin: -1px;\n",
       "  overflow: hidden;\n",
       "  padding: 0;\n",
       "  position: absolute;\n",
       "  width: 1px;\n",
       "}\n",
       "\n",
       "#sk-container-id-1 div.sk-dashed-wrapped {\n",
       "  border: 1px dashed var(--sklearn-color-line);\n",
       "  margin: 0 0.4em 0.5em 0.4em;\n",
       "  box-sizing: border-box;\n",
       "  padding-bottom: 0.4em;\n",
       "  background-color: var(--sklearn-color-background);\n",
       "}\n",
       "\n",
       "#sk-container-id-1 div.sk-container {\n",
       "  /* jupyter's `normalize.less` sets `[hidden] { display: none; }`\n",
       "     but bootstrap.min.css set `[hidden] { display: none !important; }`\n",
       "     so we also need the `!important` here to be able to override the\n",
       "     default hidden behavior on the sphinx rendered scikit-learn.org.\n",
       "     See: https://github.com/scikit-learn/scikit-learn/issues/21755 */\n",
       "  display: inline-block !important;\n",
       "  position: relative;\n",
       "}\n",
       "\n",
       "#sk-container-id-1 div.sk-text-repr-fallback {\n",
       "  display: none;\n",
       "}\n",
       "\n",
       "div.sk-parallel-item,\n",
       "div.sk-serial,\n",
       "div.sk-item {\n",
       "  /* draw centered vertical line to link estimators */\n",
       "  background-image: linear-gradient(var(--sklearn-color-text-on-default-background), var(--sklearn-color-text-on-default-background));\n",
       "  background-size: 2px 100%;\n",
       "  background-repeat: no-repeat;\n",
       "  background-position: center center;\n",
       "}\n",
       "\n",
       "/* Parallel-specific style estimator block */\n",
       "\n",
       "#sk-container-id-1 div.sk-parallel-item::after {\n",
       "  content: \"\";\n",
       "  width: 100%;\n",
       "  border-bottom: 2px solid var(--sklearn-color-text-on-default-background);\n",
       "  flex-grow: 1;\n",
       "}\n",
       "\n",
       "#sk-container-id-1 div.sk-parallel {\n",
       "  display: flex;\n",
       "  align-items: stretch;\n",
       "  justify-content: center;\n",
       "  background-color: var(--sklearn-color-background);\n",
       "  position: relative;\n",
       "}\n",
       "\n",
       "#sk-container-id-1 div.sk-parallel-item {\n",
       "  display: flex;\n",
       "  flex-direction: column;\n",
       "}\n",
       "\n",
       "#sk-container-id-1 div.sk-parallel-item:first-child::after {\n",
       "  align-self: flex-end;\n",
       "  width: 50%;\n",
       "}\n",
       "\n",
       "#sk-container-id-1 div.sk-parallel-item:last-child::after {\n",
       "  align-self: flex-start;\n",
       "  width: 50%;\n",
       "}\n",
       "\n",
       "#sk-container-id-1 div.sk-parallel-item:only-child::after {\n",
       "  width: 0;\n",
       "}\n",
       "\n",
       "/* Serial-specific style estimator block */\n",
       "\n",
       "#sk-container-id-1 div.sk-serial {\n",
       "  display: flex;\n",
       "  flex-direction: column;\n",
       "  align-items: center;\n",
       "  background-color: var(--sklearn-color-background);\n",
       "  padding-right: 1em;\n",
       "  padding-left: 1em;\n",
       "}\n",
       "\n",
       "\n",
       "/* Toggleable style: style used for estimator/Pipeline/ColumnTransformer box that is\n",
       "clickable and can be expanded/collapsed.\n",
       "- Pipeline and ColumnTransformer use this feature and define the default style\n",
       "- Estimators will overwrite some part of the style using the `sk-estimator` class\n",
       "*/\n",
       "\n",
       "/* Pipeline and ColumnTransformer style (default) */\n",
       "\n",
       "#sk-container-id-1 div.sk-toggleable {\n",
       "  /* Default theme specific background. It is overwritten whether we have a\n",
       "  specific estimator or a Pipeline/ColumnTransformer */\n",
       "  background-color: var(--sklearn-color-background);\n",
       "}\n",
       "\n",
       "/* Toggleable label */\n",
       "#sk-container-id-1 label.sk-toggleable__label {\n",
       "  cursor: pointer;\n",
       "  display: block;\n",
       "  width: 100%;\n",
       "  margin-bottom: 0;\n",
       "  padding: 0.5em;\n",
       "  box-sizing: border-box;\n",
       "  text-align: center;\n",
       "}\n",
       "\n",
       "#sk-container-id-1 label.sk-toggleable__label-arrow:before {\n",
       "  /* Arrow on the left of the label */\n",
       "  content: \"▸\";\n",
       "  float: left;\n",
       "  margin-right: 0.25em;\n",
       "  color: var(--sklearn-color-icon);\n",
       "}\n",
       "\n",
       "#sk-container-id-1 label.sk-toggleable__label-arrow:hover:before {\n",
       "  color: var(--sklearn-color-text);\n",
       "}\n",
       "\n",
       "/* Toggleable content - dropdown */\n",
       "\n",
       "#sk-container-id-1 div.sk-toggleable__content {\n",
       "  max-height: 0;\n",
       "  max-width: 0;\n",
       "  overflow: hidden;\n",
       "  text-align: left;\n",
       "  /* unfitted */\n",
       "  background-color: var(--sklearn-color-unfitted-level-0);\n",
       "}\n",
       "\n",
       "#sk-container-id-1 div.sk-toggleable__content.fitted {\n",
       "  /* fitted */\n",
       "  background-color: var(--sklearn-color-fitted-level-0);\n",
       "}\n",
       "\n",
       "#sk-container-id-1 div.sk-toggleable__content pre {\n",
       "  margin: 0.2em;\n",
       "  border-radius: 0.25em;\n",
       "  color: var(--sklearn-color-text);\n",
       "  /* unfitted */\n",
       "  background-color: var(--sklearn-color-unfitted-level-0);\n",
       "}\n",
       "\n",
       "#sk-container-id-1 div.sk-toggleable__content.fitted pre {\n",
       "  /* unfitted */\n",
       "  background-color: var(--sklearn-color-fitted-level-0);\n",
       "}\n",
       "\n",
       "#sk-container-id-1 input.sk-toggleable__control:checked~div.sk-toggleable__content {\n",
       "  /* Expand drop-down */\n",
       "  max-height: 200px;\n",
       "  max-width: 100%;\n",
       "  overflow: auto;\n",
       "}\n",
       "\n",
       "#sk-container-id-1 input.sk-toggleable__control:checked~label.sk-toggleable__label-arrow:before {\n",
       "  content: \"▾\";\n",
       "}\n",
       "\n",
       "/* Pipeline/ColumnTransformer-specific style */\n",
       "\n",
       "#sk-container-id-1 div.sk-label input.sk-toggleable__control:checked~label.sk-toggleable__label {\n",
       "  color: var(--sklearn-color-text);\n",
       "  background-color: var(--sklearn-color-unfitted-level-2);\n",
       "}\n",
       "\n",
       "#sk-container-id-1 div.sk-label.fitted input.sk-toggleable__control:checked~label.sk-toggleable__label {\n",
       "  background-color: var(--sklearn-color-fitted-level-2);\n",
       "}\n",
       "\n",
       "/* Estimator-specific style */\n",
       "\n",
       "/* Colorize estimator box */\n",
       "#sk-container-id-1 div.sk-estimator input.sk-toggleable__control:checked~label.sk-toggleable__label {\n",
       "  /* unfitted */\n",
       "  background-color: var(--sklearn-color-unfitted-level-2);\n",
       "}\n",
       "\n",
       "#sk-container-id-1 div.sk-estimator.fitted input.sk-toggleable__control:checked~label.sk-toggleable__label {\n",
       "  /* fitted */\n",
       "  background-color: var(--sklearn-color-fitted-level-2);\n",
       "}\n",
       "\n",
       "#sk-container-id-1 div.sk-label label.sk-toggleable__label,\n",
       "#sk-container-id-1 div.sk-label label {\n",
       "  /* The background is the default theme color */\n",
       "  color: var(--sklearn-color-text-on-default-background);\n",
       "}\n",
       "\n",
       "/* On hover, darken the color of the background */\n",
       "#sk-container-id-1 div.sk-label:hover label.sk-toggleable__label {\n",
       "  color: var(--sklearn-color-text);\n",
       "  background-color: var(--sklearn-color-unfitted-level-2);\n",
       "}\n",
       "\n",
       "/* Label box, darken color on hover, fitted */\n",
       "#sk-container-id-1 div.sk-label.fitted:hover label.sk-toggleable__label.fitted {\n",
       "  color: var(--sklearn-color-text);\n",
       "  background-color: var(--sklearn-color-fitted-level-2);\n",
       "}\n",
       "\n",
       "/* Estimator label */\n",
       "\n",
       "#sk-container-id-1 div.sk-label label {\n",
       "  font-family: monospace;\n",
       "  font-weight: bold;\n",
       "  display: inline-block;\n",
       "  line-height: 1.2em;\n",
       "}\n",
       "\n",
       "#sk-container-id-1 div.sk-label-container {\n",
       "  text-align: center;\n",
       "}\n",
       "\n",
       "/* Estimator-specific */\n",
       "#sk-container-id-1 div.sk-estimator {\n",
       "  font-family: monospace;\n",
       "  border: 1px dotted var(--sklearn-color-border-box);\n",
       "  border-radius: 0.25em;\n",
       "  box-sizing: border-box;\n",
       "  margin-bottom: 0.5em;\n",
       "  /* unfitted */\n",
       "  background-color: var(--sklearn-color-unfitted-level-0);\n",
       "}\n",
       "\n",
       "#sk-container-id-1 div.sk-estimator.fitted {\n",
       "  /* fitted */\n",
       "  background-color: var(--sklearn-color-fitted-level-0);\n",
       "}\n",
       "\n",
       "/* on hover */\n",
       "#sk-container-id-1 div.sk-estimator:hover {\n",
       "  /* unfitted */\n",
       "  background-color: var(--sklearn-color-unfitted-level-2);\n",
       "}\n",
       "\n",
       "#sk-container-id-1 div.sk-estimator.fitted:hover {\n",
       "  /* fitted */\n",
       "  background-color: var(--sklearn-color-fitted-level-2);\n",
       "}\n",
       "\n",
       "/* Specification for estimator info (e.g. \"i\" and \"?\") */\n",
       "\n",
       "/* Common style for \"i\" and \"?\" */\n",
       "\n",
       ".sk-estimator-doc-link,\n",
       "a:link.sk-estimator-doc-link,\n",
       "a:visited.sk-estimator-doc-link {\n",
       "  float: right;\n",
       "  font-size: smaller;\n",
       "  line-height: 1em;\n",
       "  font-family: monospace;\n",
       "  background-color: var(--sklearn-color-background);\n",
       "  border-radius: 1em;\n",
       "  height: 1em;\n",
       "  width: 1em;\n",
       "  text-decoration: none !important;\n",
       "  margin-left: 1ex;\n",
       "  /* unfitted */\n",
       "  border: var(--sklearn-color-unfitted-level-1) 1pt solid;\n",
       "  color: var(--sklearn-color-unfitted-level-1);\n",
       "}\n",
       "\n",
       ".sk-estimator-doc-link.fitted,\n",
       "a:link.sk-estimator-doc-link.fitted,\n",
       "a:visited.sk-estimator-doc-link.fitted {\n",
       "  /* fitted */\n",
       "  border: var(--sklearn-color-fitted-level-1) 1pt solid;\n",
       "  color: var(--sklearn-color-fitted-level-1);\n",
       "}\n",
       "\n",
       "/* On hover */\n",
       "div.sk-estimator:hover .sk-estimator-doc-link:hover,\n",
       ".sk-estimator-doc-link:hover,\n",
       "div.sk-label-container:hover .sk-estimator-doc-link:hover,\n",
       ".sk-estimator-doc-link:hover {\n",
       "  /* unfitted */\n",
       "  background-color: var(--sklearn-color-unfitted-level-3);\n",
       "  color: var(--sklearn-color-background);\n",
       "  text-decoration: none;\n",
       "}\n",
       "\n",
       "div.sk-estimator.fitted:hover .sk-estimator-doc-link.fitted:hover,\n",
       ".sk-estimator-doc-link.fitted:hover,\n",
       "div.sk-label-container:hover .sk-estimator-doc-link.fitted:hover,\n",
       ".sk-estimator-doc-link.fitted:hover {\n",
       "  /* fitted */\n",
       "  background-color: var(--sklearn-color-fitted-level-3);\n",
       "  color: var(--sklearn-color-background);\n",
       "  text-decoration: none;\n",
       "}\n",
       "\n",
       "/* Span, style for the box shown on hovering the info icon */\n",
       ".sk-estimator-doc-link span {\n",
       "  display: none;\n",
       "  z-index: 9999;\n",
       "  position: relative;\n",
       "  font-weight: normal;\n",
       "  right: .2ex;\n",
       "  padding: .5ex;\n",
       "  margin: .5ex;\n",
       "  width: min-content;\n",
       "  min-width: 20ex;\n",
       "  max-width: 50ex;\n",
       "  color: var(--sklearn-color-text);\n",
       "  box-shadow: 2pt 2pt 4pt #999;\n",
       "  /* unfitted */\n",
       "  background: var(--sklearn-color-unfitted-level-0);\n",
       "  border: .5pt solid var(--sklearn-color-unfitted-level-3);\n",
       "}\n",
       "\n",
       ".sk-estimator-doc-link.fitted span {\n",
       "  /* fitted */\n",
       "  background: var(--sklearn-color-fitted-level-0);\n",
       "  border: var(--sklearn-color-fitted-level-3);\n",
       "}\n",
       "\n",
       ".sk-estimator-doc-link:hover span {\n",
       "  display: block;\n",
       "}\n",
       "\n",
       "/* \"?\"-specific style due to the `<a>` HTML tag */\n",
       "\n",
       "#sk-container-id-1 a.estimator_doc_link {\n",
       "  float: right;\n",
       "  font-size: 1rem;\n",
       "  line-height: 1em;\n",
       "  font-family: monospace;\n",
       "  background-color: var(--sklearn-color-background);\n",
       "  border-radius: 1rem;\n",
       "  height: 1rem;\n",
       "  width: 1rem;\n",
       "  text-decoration: none;\n",
       "  /* unfitted */\n",
       "  color: var(--sklearn-color-unfitted-level-1);\n",
       "  border: var(--sklearn-color-unfitted-level-1) 1pt solid;\n",
       "}\n",
       "\n",
       "#sk-container-id-1 a.estimator_doc_link.fitted {\n",
       "  /* fitted */\n",
       "  border: var(--sklearn-color-fitted-level-1) 1pt solid;\n",
       "  color: var(--sklearn-color-fitted-level-1);\n",
       "}\n",
       "\n",
       "/* On hover */\n",
       "#sk-container-id-1 a.estimator_doc_link:hover {\n",
       "  /* unfitted */\n",
       "  background-color: var(--sklearn-color-unfitted-level-3);\n",
       "  color: var(--sklearn-color-background);\n",
       "  text-decoration: none;\n",
       "}\n",
       "\n",
       "#sk-container-id-1 a.estimator_doc_link.fitted:hover {\n",
       "  /* fitted */\n",
       "  background-color: var(--sklearn-color-fitted-level-3);\n",
       "}\n",
       "</style><div id=\"sk-container-id-1\" class=\"sk-top-container\"><div class=\"sk-text-repr-fallback\"><pre>KMeans(n_clusters=4, n_init=10, random_state=42)</pre><b>In a Jupyter environment, please rerun this cell to show the HTML representation or trust the notebook. <br />On GitHub, the HTML representation is unable to render, please try loading this page with nbviewer.org.</b></div><div class=\"sk-container\" hidden><div class=\"sk-item\"><div class=\"sk-estimator fitted sk-toggleable\"><input class=\"sk-toggleable__control sk-hidden--visually\" id=\"sk-estimator-id-1\" type=\"checkbox\" checked><label for=\"sk-estimator-id-1\" class=\"sk-toggleable__label fitted sk-toggleable__label-arrow fitted\">&nbsp;&nbsp;KMeans<a class=\"sk-estimator-doc-link fitted\" rel=\"noreferrer\" target=\"_blank\" href=\"https://scikit-learn.org/1.5/modules/generated/sklearn.cluster.KMeans.html\">?<span>Documentation for KMeans</span></a><span class=\"sk-estimator-doc-link fitted\">i<span>Fitted</span></span></label><div class=\"sk-toggleable__content fitted\"><pre>KMeans(n_clusters=4, n_init=10, random_state=42)</pre></div> </div></div></div></div>"
      ]
     },
     "execution_count": 11,
     "metadata": {},
     "output_type": "execute_result"
    }
   ],
   "execution_count": 11
  },
  {
   "cell_type": "code",
   "execution_count": 15,
   "metadata": {},
   "outputs": [
    {
     "data": {
      "text/plain": [
       "['activity-preference-model.joblib']"
      ]
     },
     "execution_count": 15,
     "metadata": {},
     "output_type": "execute_result"
    }
   ],
   "source": [
    "#Save the Model\n",
    "dump(kmeans_trained, 'activity-preference-model.joblib')"
   ]
  },
  {
   "cell_type": "markdown",
   "metadata": {},
   "source": [
    "## 11. Adding Cluster Label to Data"
   ]
  },
  {
   "cell_type": "code",
   "metadata": {
    "ExecuteTime": {
     "end_time": "2024-12-07T13:57:55.244823Z",
     "start_time": "2024-12-07T13:57:55.220947Z"
    }
   },
   "source": [
    "data['cluster'] = kmeans_trained.labels_\n",
    "\n",
    "data[['npm', 'nama_kegiatan', 'cluster']].head()"
   ],
   "outputs": [
    {
     "data": {
      "text/plain": [
       "       npm                                      nama_kegiatan  cluster\n",
       "0  1931173  Sertifikasi Agile Scrum Fundamentals (ASF) (Qu...        1\n",
       "1  1931173  The 2nd Conference on Community Engagement Pro...        1\n",
       "2  1931173   Seminar Nasional \"Youth`s Impact In Digital Era\"        3\n",
       "3  1931173  Seminar Importance of IT Certifications in Ind...        0\n",
       "4  1931173  Listening and Reading Official Institutional S...        1"
      ],
      "text/html": [
       "<div>\n",
       "<style scoped>\n",
       "    .dataframe tbody tr th:only-of-type {\n",
       "        vertical-align: middle;\n",
       "    }\n",
       "\n",
       "    .dataframe tbody tr th {\n",
       "        vertical-align: top;\n",
       "    }\n",
       "\n",
       "    .dataframe thead th {\n",
       "        text-align: right;\n",
       "    }\n",
       "</style>\n",
       "<table border=\"1\" class=\"dataframe\">\n",
       "  <thead>\n",
       "    <tr style=\"text-align: right;\">\n",
       "      <th></th>\n",
       "      <th>npm</th>\n",
       "      <th>nama_kegiatan</th>\n",
       "      <th>cluster</th>\n",
       "    </tr>\n",
       "  </thead>\n",
       "  <tbody>\n",
       "    <tr>\n",
       "      <th>0</th>\n",
       "      <td>1931173</td>\n",
       "      <td>Sertifikasi Agile Scrum Fundamentals (ASF) (Qu...</td>\n",
       "      <td>1</td>\n",
       "    </tr>\n",
       "    <tr>\n",
       "      <th>1</th>\n",
       "      <td>1931173</td>\n",
       "      <td>The 2nd Conference on Community Engagement Pro...</td>\n",
       "      <td>1</td>\n",
       "    </tr>\n",
       "    <tr>\n",
       "      <th>2</th>\n",
       "      <td>1931173</td>\n",
       "      <td>Seminar Nasional \"Youth`s Impact In Digital Era\"</td>\n",
       "      <td>3</td>\n",
       "    </tr>\n",
       "    <tr>\n",
       "      <th>3</th>\n",
       "      <td>1931173</td>\n",
       "      <td>Seminar Importance of IT Certifications in Ind...</td>\n",
       "      <td>0</td>\n",
       "    </tr>\n",
       "    <tr>\n",
       "      <th>4</th>\n",
       "      <td>1931173</td>\n",
       "      <td>Listening and Reading Official Institutional S...</td>\n",
       "      <td>1</td>\n",
       "    </tr>\n",
       "  </tbody>\n",
       "</table>\n",
       "</div>"
      ]
     },
     "execution_count": 12,
     "metadata": {},
     "output_type": "execute_result"
    }
   ],
   "execution_count": 12
  },
  {
   "cell_type": "markdown",
   "metadata": {},
   "source": [
    "## 12. Analyze most popular Activity Level per cluster"
   ]
  },
  {
   "cell_type": "code",
   "metadata": {
    "ExecuteTime": {
     "end_time": "2024-12-07T13:57:57.692733Z",
     "start_time": "2024-12-07T13:57:57.652242Z"
    }
   },
   "source": [
    "activity_level_counts = data.groupby('cluster')[data.columns[data.columns.str.contains('tingkat_kegiatan_')]].sum()\n",
    "\n",
    "# Find the most popular activity level for each cluster\n",
    "most_popular_activity = activity_level_counts.idxmax(axis=1)\n",
    "\n",
    "# Create a DataFrame for better visualization\n",
    "result = pd.DataFrame({\n",
    "    'Cluster': most_popular_activity.index,\n",
    "    'Most Popular Activity Level': most_popular_activity.values\n",
    "})\n",
    "\n",
    "print(result)"
   ],
   "outputs": [
    {
     "name": "stdout",
     "output_type": "stream",
     "text": [
      "   Cluster     Most Popular Activity Level\n",
      "0        0          tingkat_kegiatan_lokal\n",
      "1        1  tingkat_kegiatan_international\n",
      "2        2       tingkat_kegiatan_provinsi\n",
      "3        3       tingkat_kegiatan_national\n"
     ]
    }
   ],
   "execution_count": 13
  },
  {
   "cell_type": "markdown",
   "metadata": {},
   "source": [
    "## 13. Visualize Clustering Result"
   ]
  },
  {
   "cell_type": "code",
   "metadata": {
    "ExecuteTime": {
     "end_time": "2024-12-07T13:58:00.311149Z",
     "start_time": "2024-12-07T13:58:00.075833Z"
    }
   },
   "source": [
    "plt.figure(figsize=(10, 6))\n",
    "\n",
    "# Create a bar plot\n",
    "sns.barplot(x='Cluster', y='Most Popular Activity Level', data=result)\n",
    "\n",
    "# Add titles and labels\n",
    "plt.title('Most Popular Activity Level per Cluster')\n",
    "plt.xlabel('Cluster')\n",
    "plt.ylabel('Most Popular Activity Level')\n",
    "plt.xticks(rotation=45)  # Rotate x labels for better readability\n",
    "plt.grid(axis='y')\n",
    "\n",
    "# Show the plot\n",
    "plt.show()"
   ],
   "outputs": [
    {
     "data": {
      "text/plain": [
       "<Figure size 1000x600 with 1 Axes>"
      ],
      "image/png": "[encoded data removed]"
     },
     "metadata": {},
     "output_type": "display_data"
    }
   ],
   "execution_count": 14
  },
  {
   "cell_type": "markdown",
   "metadata": {},
   "source": [
    "## 14. Use the model"
   ]
  },
  {
   "cell_type": "code",
   "metadata": {
    "ExecuteTime": {
     "end_time": "2024-12-07T13:58:05.094837Z",
     "start_time": "2024-12-07T13:58:05.050191Z"
    }
   },
   "source": [
    "kmeans_model = load('activity-preference-model.joblib')\n",
    "scaler = load('scaler.joblib')  # Load the scaler used for feature scaling\n",
    "\n",
    "def get_favorite_tingkat_kegiatan(npm, data):\n",
    "    # Get data for the student with the given npm\n",
    "    student_data = data[data['npm'] == npm]\n",
    "\n",
    "    if student_data.empty:\n",
    "        return f\"Data for {npm} not found.\"\n",
    "    \n",
    "    # Extract the student's name\n",
    "    nama_mahasiswa = student_data['nama_mahasiswa'].values[0]\n",
    "    \n",
    "    # Extract features for prediction\n",
    "    features = student_data[['ipk_mahasiswa'] + list(student_data.columns[student_data.columns.str.contains('tingkat_kegiatan_')])]\n",
    "\n",
    "    # Scale the features\n",
    "    features_scaled = scaler.transform(features)  # Use the fitted scaler from the training phase\n",
    "\n",
    "    # Predict the cluster for the student\n",
    "    cluster = kmeans_model.predict(features_scaled)[0]\n",
    "\n",
    "    # Get all data for students in the same cluster\n",
    "    cluster_data = data[data['cluster'] == cluster]\n",
    "\n",
    "    # Find the most common one-hot encoded column for tingkat_kegiatan in the cluster\n",
    "    tingkat_kegiatan_cols = cluster_data.columns[cluster_data.columns.str.contains('tingkat_kegiatan_')]\n",
    "    \n",
    "    # Get the sum of each one-hot encoded column in the cluster\n",
    "    counts = cluster_data[tingkat_kegiatan_cols].sum()\n",
    "\n",
    "    # Identify the most common one\n",
    "    favorite_tingkat_kegiatan_col = counts.idxmax()\n",
    "    \n",
    "    # Extract the original category name from the column name\n",
    "    favorite_tingkat_kegiatan = favorite_tingkat_kegiatan_col.replace('tingkat_kegiatan_', '')\n",
    "\n",
    "    return f\"Tingkat kegiatan kesukaan {nama_mahasiswa} adalah: {favorite_tingkat_kegiatan}.\""
   ],
   "outputs": [],
   "execution_count": 15
  },
  {
   "cell_type": "code",
   "metadata": {
    "ExecuteTime": {
     "end_time": "2024-12-07T13:58:09.010594Z",
     "start_time": "2024-12-07T13:58:08.989906Z"
    }
   },
   "source": [
    "npm_mahasiswa = 2231152\n",
    "\n",
    "favorite_activity = get_favorite_tingkat_kegiatan(npm_mahasiswa, data)\n",
    "print(favorite_activity)"
   ],
   "outputs": [
    {
     "name": "stdout",
     "output_type": "stream",
     "text": [
      "Tingkat kegiatan kesukaan Gary Happydinata adalah: lokal.\n"
     ]
    }
   ],
   "execution_count": 16
  }
 ],
 "metadata": {
  "kernelspec": {
   "display_name": "venv",
   "language": "python",
   "name": "python3"
  },
  "language_info": {
   "codemirror_mode": {
    "name": "ipython",
    "version": 3
   },
   "file_extension": ".py",
   "mimetype": "text/x-python",
   "name": "python",
   "nbconvert_exporter": "python",
   "pygments_lexer": "ipython3",
   "version": "3.12.7"
  }
 },
 "nbformat": 4,
 "nbformat_minor": 2
}
